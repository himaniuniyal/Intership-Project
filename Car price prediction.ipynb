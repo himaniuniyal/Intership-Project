{
 "cells": [
  {
   "cell_type": "code",
   "execution_count": 305,
   "id": "9eeb227a",
   "metadata": {},
   "outputs": [],
   "source": [
    "import pandas as pd\n",
    "import numpy as np\n",
    "import seaborn as sns\n",
    "import numpy\n",
    "import matplotlib.pyplot as plt\n",
    "%matplotlib inline"
   ]
  },
  {
   "cell_type": "markdown",
   "id": "51012036",
   "metadata": {},
   "source": [
    "we collected data from website : Car24"
   ]
  },
  {
   "cell_type": "code",
   "execution_count": 231,
   "id": "7b734e9d",
   "metadata": {},
   "outputs": [
    {
     "data": {
      "text/html": [
       "<div>\n",
       "<style scoped>\n",
       "    .dataframe tbody tr th:only-of-type {\n",
       "        vertical-align: middle;\n",
       "    }\n",
       "\n",
       "    .dataframe tbody tr th {\n",
       "        vertical-align: top;\n",
       "    }\n",
       "\n",
       "    .dataframe thead th {\n",
       "        text-align: right;\n",
       "    }\n",
       "</style>\n",
       "<table border=\"1\" class=\"dataframe\">\n",
       "  <thead>\n",
       "    <tr style=\"text-align: right;\">\n",
       "      <th></th>\n",
       "      <th>Unnamed: 0</th>\n",
       "      <th>Unnamed: 0.1</th>\n",
       "      <th>Car</th>\n",
       "      <th>History</th>\n",
       "      <th>KM</th>\n",
       "      <th>Year_purchase</th>\n",
       "      <th>Owner</th>\n",
       "      <th>fuel</th>\n",
       "      <th>Transmission</th>\n",
       "      <th>Price</th>\n",
       "      <th>Location</th>\n",
       "    </tr>\n",
       "  </thead>\n",
       "  <tbody>\n",
       "    <tr>\n",
       "      <th>0</th>\n",
       "      <td>0</td>\n",
       "      <td>0</td>\n",
       "      <td>2016 Renault Kwid 1.0 RXT MANUAL</td>\n",
       "      <td>Non-Accidental</td>\n",
       "      <td>20,445 km</td>\n",
       "      <td>August 2016</td>\n",
       "      <td>1st Owner</td>\n",
       "      <td>Petrol</td>\n",
       "      <td>MANUAL</td>\n",
       "      <td>Fixed Price</td>\n",
       "      <td>hyderabad</td>\n",
       "    </tr>\n",
       "    <tr>\n",
       "      <th>1</th>\n",
       "      <td>1</td>\n",
       "      <td>1</td>\n",
       "      <td>2018 Volkswagen Ameo HIGHLINE PLUS 1.0 MANUAL</td>\n",
       "      <td>Non-Accidental</td>\n",
       "      <td>65,235 km</td>\n",
       "      <td>July 2018</td>\n",
       "      <td>1st Owner</td>\n",
       "      <td>Petrol</td>\n",
       "      <td>MANUAL</td>\n",
       "      <td>Fixed Price\\n₹3,33,899</td>\n",
       "      <td>hyderabad</td>\n",
       "    </tr>\n",
       "    <tr>\n",
       "      <th>2</th>\n",
       "      <td>2</td>\n",
       "      <td>2</td>\n",
       "      <td>2017 Skoda Octavia Style 1.4 TSI MT MANUAL</td>\n",
       "      <td>Non-Accidental</td>\n",
       "      <td>47,264 km</td>\n",
       "      <td>July 2017</td>\n",
       "      <td>1st Owner</td>\n",
       "      <td>Petrol</td>\n",
       "      <td>MANUAL</td>\n",
       "      <td>Fixed Price\\n₹6,21,899</td>\n",
       "      <td>hyderabad</td>\n",
       "    </tr>\n",
       "    <tr>\n",
       "      <th>3</th>\n",
       "      <td>3</td>\n",
       "      <td>3</td>\n",
       "      <td>2016 Maruti Baleno ZETA 1.2 K12 MANUAL</td>\n",
       "      <td>Non-Accidental</td>\n",
       "      <td>1,03,354 km</td>\n",
       "      <td>December 2016</td>\n",
       "      <td>1st Owner</td>\n",
       "      <td>Petrol</td>\n",
       "      <td>MANUAL</td>\n",
       "      <td>Fixed Price\\n₹13,05,499</td>\n",
       "      <td>hyderabad</td>\n",
       "    </tr>\n",
       "    <tr>\n",
       "      <th>4</th>\n",
       "      <td>4</td>\n",
       "      <td>4</td>\n",
       "      <td>2015 Honda Jazz 1.2 V AT AUTOMATIC</td>\n",
       "      <td>Non-Accidental</td>\n",
       "      <td>65,571 km</td>\n",
       "      <td>November 2015</td>\n",
       "      <td>2nd Owner</td>\n",
       "      <td>Petrol</td>\n",
       "      <td>AUTOMATIC</td>\n",
       "      <td>Fixed Price\\n₹6,21,899</td>\n",
       "      <td>hyderabad</td>\n",
       "    </tr>\n",
       "    <tr>\n",
       "      <th>...</th>\n",
       "      <td>...</td>\n",
       "      <td>...</td>\n",
       "      <td>...</td>\n",
       "      <td>...</td>\n",
       "      <td>...</td>\n",
       "      <td>...</td>\n",
       "      <td>...</td>\n",
       "      <td>...</td>\n",
       "      <td>...</td>\n",
       "      <td>...</td>\n",
       "      <td>...</td>\n",
       "    </tr>\n",
       "    <tr>\n",
       "      <th>257</th>\n",
       "      <td>15</td>\n",
       "      <td>15</td>\n",
       "      <td>2016 Maruti Ertiga ZDI SHVS MANUAL</td>\n",
       "      <td>Non-Accidental</td>\n",
       "      <td>66,982 km</td>\n",
       "      <td>July 2016</td>\n",
       "      <td>2nd Owner</td>\n",
       "      <td>Diesel</td>\n",
       "      <td>MANUAL</td>\n",
       "      <td>Fixed Price\\n₹8,16,999</td>\n",
       "      <td>Mumbai</td>\n",
       "    </tr>\n",
       "    <tr>\n",
       "      <th>258</th>\n",
       "      <td>16</td>\n",
       "      <td>16</td>\n",
       "      <td>2017 Hyundai i20 Active 1.2 SX MANUAL</td>\n",
       "      <td>Non-Accidental</td>\n",
       "      <td>12,910 km</td>\n",
       "      <td>January 2017</td>\n",
       "      <td>1st Owner</td>\n",
       "      <td>Petrol</td>\n",
       "      <td>MANUAL</td>\n",
       "      <td>Fixed Price\\n₹6,48,699</td>\n",
       "      <td>Mumbai</td>\n",
       "    </tr>\n",
       "    <tr>\n",
       "      <th>259</th>\n",
       "      <td>17</td>\n",
       "      <td>17</td>\n",
       "      <td>2017 Maruti Vitara Brezza VDI OPT MANUAL</td>\n",
       "      <td>Non-Accidental</td>\n",
       "      <td>46,304 km</td>\n",
       "      <td>May 2017</td>\n",
       "      <td>1st Owner</td>\n",
       "      <td>Diesel</td>\n",
       "      <td>MANUAL</td>\n",
       "      <td>Fixed Price\\n₹7,45,199</td>\n",
       "      <td>Mumbai</td>\n",
       "    </tr>\n",
       "    <tr>\n",
       "      <th>260</th>\n",
       "      <td>18</td>\n",
       "      <td>18</td>\n",
       "      <td>2015 Maruti Ciaz ZXI PLUS MANUAL</td>\n",
       "      <td>Non-Accidental</td>\n",
       "      <td>23,382 km</td>\n",
       "      <td>January 2015</td>\n",
       "      <td>1st Owner</td>\n",
       "      <td>Petrol</td>\n",
       "      <td>MANUAL</td>\n",
       "      <td>Fixed Price\\n₹6,55,199</td>\n",
       "      <td>Mumbai</td>\n",
       "    </tr>\n",
       "    <tr>\n",
       "      <th>261</th>\n",
       "      <td>19</td>\n",
       "      <td>19</td>\n",
       "      <td>2017 Jeep Compass 2.0 LONGITUDE MANUAL</td>\n",
       "      <td>Non-Accidental</td>\n",
       "      <td>62,695 km</td>\n",
       "      <td>July 2017</td>\n",
       "      <td>1st Owner</td>\n",
       "      <td>Diesel</td>\n",
       "      <td>MANUAL</td>\n",
       "      <td>Fixed Price\\n₹13,78,099</td>\n",
       "      <td>Mumbai</td>\n",
       "    </tr>\n",
       "  </tbody>\n",
       "</table>\n",
       "<p>262 rows × 11 columns</p>\n",
       "</div>"
      ],
      "text/plain": [
       "     Unnamed: 0  Unnamed: 0.1                                            Car  \\\n",
       "0             0             0               2016 Renault Kwid 1.0 RXT MANUAL   \n",
       "1             1             1  2018 Volkswagen Ameo HIGHLINE PLUS 1.0 MANUAL   \n",
       "2             2             2     2017 Skoda Octavia Style 1.4 TSI MT MANUAL   \n",
       "3             3             3         2016 Maruti Baleno ZETA 1.2 K12 MANUAL   \n",
       "4             4             4             2015 Honda Jazz 1.2 V AT AUTOMATIC   \n",
       "..          ...           ...                                            ...   \n",
       "257          15            15             2016 Maruti Ertiga ZDI SHVS MANUAL   \n",
       "258          16            16          2017 Hyundai i20 Active 1.2 SX MANUAL   \n",
       "259          17            17       2017 Maruti Vitara Brezza VDI OPT MANUAL   \n",
       "260          18            18               2015 Maruti Ciaz ZXI PLUS MANUAL   \n",
       "261          19            19         2017 Jeep Compass 2.0 LONGITUDE MANUAL   \n",
       "\n",
       "            History           KM  Year_purchase      Owner    fuel  \\\n",
       "0    Non-Accidental    20,445 km    August 2016  1st Owner  Petrol   \n",
       "1    Non-Accidental    65,235 km      July 2018  1st Owner  Petrol   \n",
       "2    Non-Accidental    47,264 km      July 2017  1st Owner  Petrol   \n",
       "3    Non-Accidental  1,03,354 km  December 2016  1st Owner  Petrol   \n",
       "4    Non-Accidental    65,571 km  November 2015  2nd Owner  Petrol   \n",
       "..              ...          ...            ...        ...     ...   \n",
       "257  Non-Accidental    66,982 km      July 2016  2nd Owner  Diesel   \n",
       "258  Non-Accidental    12,910 km   January 2017  1st Owner  Petrol   \n",
       "259  Non-Accidental    46,304 km       May 2017  1st Owner  Diesel   \n",
       "260  Non-Accidental    23,382 km   January 2015  1st Owner  Petrol   \n",
       "261  Non-Accidental    62,695 km      July 2017  1st Owner  Diesel   \n",
       "\n",
       "    Transmission                    Price   Location  \n",
       "0         MANUAL              Fixed Price  hyderabad  \n",
       "1         MANUAL   Fixed Price\\n₹3,33,899  hyderabad  \n",
       "2         MANUAL   Fixed Price\\n₹6,21,899  hyderabad  \n",
       "3         MANUAL  Fixed Price\\n₹13,05,499  hyderabad  \n",
       "4      AUTOMATIC   Fixed Price\\n₹6,21,899  hyderabad  \n",
       "..           ...                      ...        ...  \n",
       "257       MANUAL   Fixed Price\\n₹8,16,999     Mumbai  \n",
       "258       MANUAL   Fixed Price\\n₹6,48,699     Mumbai  \n",
       "259       MANUAL   Fixed Price\\n₹7,45,199     Mumbai  \n",
       "260       MANUAL   Fixed Price\\n₹6,55,199     Mumbai  \n",
       "261       MANUAL  Fixed Price\\n₹13,78,099     Mumbai  \n",
       "\n",
       "[262 rows x 11 columns]"
      ]
     },
     "execution_count": 231,
     "metadata": {},
     "output_type": "execute_result"
    }
   ],
   "source": [
    "#loading data\n",
    "data = pd.read_csv (\"C:/Users/Admin/Desktop/result.csv\")\n",
    "data"
   ]
  },
  {
   "cell_type": "code",
   "execution_count": 232,
   "id": "b4e891ba",
   "metadata": {},
   "outputs": [],
   "source": [
    "data['Price']=data['Price'].str.split('\\n', expand=True)[1]"
   ]
  },
  {
   "cell_type": "code",
   "execution_count": 233,
   "id": "00bd764c",
   "metadata": {},
   "outputs": [
    {
     "data": {
      "text/plain": [
       "0            None\n",
       "1       ₹3,33,899\n",
       "2       ₹6,21,899\n",
       "3      ₹13,05,499\n",
       "4       ₹6,21,899\n",
       "          ...    \n",
       "257     ₹8,16,999\n",
       "258     ₹6,48,699\n",
       "259     ₹7,45,199\n",
       "260     ₹6,55,199\n",
       "261    ₹13,78,099\n",
       "Name: Price, Length: 262, dtype: object"
      ]
     },
     "execution_count": 233,
     "metadata": {},
     "output_type": "execute_result"
    }
   ],
   "source": [
    "data['Price']"
   ]
  },
  {
   "cell_type": "code",
   "execution_count": 234,
   "id": "87995e1e",
   "metadata": {},
   "outputs": [],
   "source": [
    "#Splitted by space and removed kms\n",
    "data['KM']=data['KM'].str.split(' ',expand=True)[0]"
   ]
  },
  {
   "cell_type": "code",
   "execution_count": 235,
   "id": "5729c50f",
   "metadata": {},
   "outputs": [],
   "source": [
    "car1=data.assign(Price=data['Price'].str.replace(r'₹', ''))"
   ]
  },
  {
   "cell_type": "code",
   "execution_count": 236,
   "id": "89f35b01",
   "metadata": {},
   "outputs": [
    {
     "name": "stdout",
     "output_type": "stream",
     "text": [
      "<class 'pandas.core.frame.DataFrame'>\n",
      "RangeIndex: 262 entries, 0 to 261\n",
      "Data columns (total 11 columns):\n",
      " #   Column         Non-Null Count  Dtype \n",
      "---  ------         --------------  ----- \n",
      " 0   Unnamed: 0     262 non-null    int64 \n",
      " 1   Unnamed: 0.1   262 non-null    int64 \n",
      " 2   Car            262 non-null    object\n",
      " 3   History        262 non-null    object\n",
      " 4   KM             262 non-null    object\n",
      " 5   Year_purchase  262 non-null    object\n",
      " 6   Owner          262 non-null    object\n",
      " 7   fuel           262 non-null    object\n",
      " 8   Transmission   257 non-null    object\n",
      " 9   Price          256 non-null    object\n",
      " 10  Location       262 non-null    object\n",
      "dtypes: int64(2), object(9)\n",
      "memory usage: 22.6+ KB\n"
     ]
    }
   ],
   "source": [
    "car1.info()"
   ]
  },
  {
   "cell_type": "code",
   "execution_count": 237,
   "id": "8fbb4d68",
   "metadata": {},
   "outputs": [],
   "source": [
    "car=car1.drop(['Unnamed: 0', 'Unnamed: 0.1'], axis = 1)"
   ]
  },
  {
   "cell_type": "code",
   "execution_count": 238,
   "id": "5c87d605",
   "metadata": {},
   "outputs": [
    {
     "name": "stdout",
     "output_type": "stream",
     "text": [
      "<class 'pandas.core.frame.DataFrame'>\n",
      "RangeIndex: 262 entries, 0 to 261\n",
      "Data columns (total 9 columns):\n",
      " #   Column         Non-Null Count  Dtype \n",
      "---  ------         --------------  ----- \n",
      " 0   Car            262 non-null    object\n",
      " 1   History        262 non-null    object\n",
      " 2   KM             262 non-null    object\n",
      " 3   Year_purchase  262 non-null    object\n",
      " 4   Owner          262 non-null    object\n",
      " 5   fuel           262 non-null    object\n",
      " 6   Transmission   257 non-null    object\n",
      " 7   Price          256 non-null    object\n",
      " 8   Location       262 non-null    object\n",
      "dtypes: object(9)\n",
      "memory usage: 18.5+ KB\n"
     ]
    }
   ],
   "source": [
    "car.info()"
   ]
  },
  {
   "cell_type": "code",
   "execution_count": 239,
   "id": "32c4ff7b",
   "metadata": {},
   "outputs": [
    {
     "data": {
      "text/html": [
       "<div>\n",
       "<style scoped>\n",
       "    .dataframe tbody tr th:only-of-type {\n",
       "        vertical-align: middle;\n",
       "    }\n",
       "\n",
       "    .dataframe tbody tr th {\n",
       "        vertical-align: top;\n",
       "    }\n",
       "\n",
       "    .dataframe thead th {\n",
       "        text-align: right;\n",
       "    }\n",
       "</style>\n",
       "<table border=\"1\" class=\"dataframe\">\n",
       "  <thead>\n",
       "    <tr style=\"text-align: right;\">\n",
       "      <th></th>\n",
       "      <th>Car</th>\n",
       "      <th>History</th>\n",
       "      <th>KM</th>\n",
       "      <th>Year_purchase</th>\n",
       "      <th>Owner</th>\n",
       "      <th>fuel</th>\n",
       "      <th>Transmission</th>\n",
       "      <th>Price</th>\n",
       "      <th>Location</th>\n",
       "    </tr>\n",
       "  </thead>\n",
       "  <tbody>\n",
       "    <tr>\n",
       "      <th>1</th>\n",
       "      <td>2018 Volkswagen Ameo HIGHLINE PLUS 1.0 MANUAL</td>\n",
       "      <td>Non-Accidental</td>\n",
       "      <td>65,235</td>\n",
       "      <td>July 2018</td>\n",
       "      <td>1st Owner</td>\n",
       "      <td>Petrol</td>\n",
       "      <td>MANUAL</td>\n",
       "      <td>3,33,899</td>\n",
       "      <td>hyderabad</td>\n",
       "    </tr>\n",
       "    <tr>\n",
       "      <th>2</th>\n",
       "      <td>2017 Skoda Octavia Style 1.4 TSI MT MANUAL</td>\n",
       "      <td>Non-Accidental</td>\n",
       "      <td>47,264</td>\n",
       "      <td>July 2017</td>\n",
       "      <td>1st Owner</td>\n",
       "      <td>Petrol</td>\n",
       "      <td>MANUAL</td>\n",
       "      <td>6,21,899</td>\n",
       "      <td>hyderabad</td>\n",
       "    </tr>\n",
       "    <tr>\n",
       "      <th>3</th>\n",
       "      <td>2016 Maruti Baleno ZETA 1.2 K12 MANUAL</td>\n",
       "      <td>Non-Accidental</td>\n",
       "      <td>1,03,354</td>\n",
       "      <td>December 2016</td>\n",
       "      <td>1st Owner</td>\n",
       "      <td>Petrol</td>\n",
       "      <td>MANUAL</td>\n",
       "      <td>13,05,499</td>\n",
       "      <td>hyderabad</td>\n",
       "    </tr>\n",
       "    <tr>\n",
       "      <th>4</th>\n",
       "      <td>2015 Honda Jazz 1.2 V AT AUTOMATIC</td>\n",
       "      <td>Non-Accidental</td>\n",
       "      <td>65,571</td>\n",
       "      <td>November 2015</td>\n",
       "      <td>2nd Owner</td>\n",
       "      <td>Petrol</td>\n",
       "      <td>AUTOMATIC</td>\n",
       "      <td>6,21,899</td>\n",
       "      <td>hyderabad</td>\n",
       "    </tr>\n",
       "    <tr>\n",
       "      <th>5</th>\n",
       "      <td>2017 Maruti Baleno DELTA 1.2 K12 MANUAL</td>\n",
       "      <td>Non-Accidental</td>\n",
       "      <td>22,876</td>\n",
       "      <td>April 2017</td>\n",
       "      <td>1st Owner</td>\n",
       "      <td>Petrol</td>\n",
       "      <td>MANUAL</td>\n",
       "      <td>5,24,199</td>\n",
       "      <td>hyderabad</td>\n",
       "    </tr>\n",
       "    <tr>\n",
       "      <th>...</th>\n",
       "      <td>...</td>\n",
       "      <td>...</td>\n",
       "      <td>...</td>\n",
       "      <td>...</td>\n",
       "      <td>...</td>\n",
       "      <td>...</td>\n",
       "      <td>...</td>\n",
       "      <td>...</td>\n",
       "      <td>...</td>\n",
       "    </tr>\n",
       "    <tr>\n",
       "      <th>257</th>\n",
       "      <td>2016 Maruti Ertiga ZDI SHVS MANUAL</td>\n",
       "      <td>Non-Accidental</td>\n",
       "      <td>66,982</td>\n",
       "      <td>July 2016</td>\n",
       "      <td>2nd Owner</td>\n",
       "      <td>Diesel</td>\n",
       "      <td>MANUAL</td>\n",
       "      <td>8,16,999</td>\n",
       "      <td>Mumbai</td>\n",
       "    </tr>\n",
       "    <tr>\n",
       "      <th>258</th>\n",
       "      <td>2017 Hyundai i20 Active 1.2 SX MANUAL</td>\n",
       "      <td>Non-Accidental</td>\n",
       "      <td>12,910</td>\n",
       "      <td>January 2017</td>\n",
       "      <td>1st Owner</td>\n",
       "      <td>Petrol</td>\n",
       "      <td>MANUAL</td>\n",
       "      <td>6,48,699</td>\n",
       "      <td>Mumbai</td>\n",
       "    </tr>\n",
       "    <tr>\n",
       "      <th>259</th>\n",
       "      <td>2017 Maruti Vitara Brezza VDI OPT MANUAL</td>\n",
       "      <td>Non-Accidental</td>\n",
       "      <td>46,304</td>\n",
       "      <td>May 2017</td>\n",
       "      <td>1st Owner</td>\n",
       "      <td>Diesel</td>\n",
       "      <td>MANUAL</td>\n",
       "      <td>7,45,199</td>\n",
       "      <td>Mumbai</td>\n",
       "    </tr>\n",
       "    <tr>\n",
       "      <th>260</th>\n",
       "      <td>2015 Maruti Ciaz ZXI PLUS MANUAL</td>\n",
       "      <td>Non-Accidental</td>\n",
       "      <td>23,382</td>\n",
       "      <td>January 2015</td>\n",
       "      <td>1st Owner</td>\n",
       "      <td>Petrol</td>\n",
       "      <td>MANUAL</td>\n",
       "      <td>6,55,199</td>\n",
       "      <td>Mumbai</td>\n",
       "    </tr>\n",
       "    <tr>\n",
       "      <th>261</th>\n",
       "      <td>2017 Jeep Compass 2.0 LONGITUDE MANUAL</td>\n",
       "      <td>Non-Accidental</td>\n",
       "      <td>62,695</td>\n",
       "      <td>July 2017</td>\n",
       "      <td>1st Owner</td>\n",
       "      <td>Diesel</td>\n",
       "      <td>MANUAL</td>\n",
       "      <td>13,78,099</td>\n",
       "      <td>Mumbai</td>\n",
       "    </tr>\n",
       "  </tbody>\n",
       "</table>\n",
       "<p>251 rows × 9 columns</p>\n",
       "</div>"
      ],
      "text/plain": [
       "                                               Car         History        KM  \\\n",
       "1    2018 Volkswagen Ameo HIGHLINE PLUS 1.0 MANUAL  Non-Accidental    65,235   \n",
       "2       2017 Skoda Octavia Style 1.4 TSI MT MANUAL  Non-Accidental    47,264   \n",
       "3           2016 Maruti Baleno ZETA 1.2 K12 MANUAL  Non-Accidental  1,03,354   \n",
       "4               2015 Honda Jazz 1.2 V AT AUTOMATIC  Non-Accidental    65,571   \n",
       "5          2017 Maruti Baleno DELTA 1.2 K12 MANUAL  Non-Accidental    22,876   \n",
       "..                                             ...             ...       ...   \n",
       "257             2016 Maruti Ertiga ZDI SHVS MANUAL  Non-Accidental    66,982   \n",
       "258          2017 Hyundai i20 Active 1.2 SX MANUAL  Non-Accidental    12,910   \n",
       "259       2017 Maruti Vitara Brezza VDI OPT MANUAL  Non-Accidental    46,304   \n",
       "260               2015 Maruti Ciaz ZXI PLUS MANUAL  Non-Accidental    23,382   \n",
       "261         2017 Jeep Compass 2.0 LONGITUDE MANUAL  Non-Accidental    62,695   \n",
       "\n",
       "     Year_purchase      Owner    fuel Transmission      Price   Location  \n",
       "1        July 2018  1st Owner  Petrol       MANUAL   3,33,899  hyderabad  \n",
       "2        July 2017  1st Owner  Petrol       MANUAL   6,21,899  hyderabad  \n",
       "3    December 2016  1st Owner  Petrol       MANUAL  13,05,499  hyderabad  \n",
       "4    November 2015  2nd Owner  Petrol    AUTOMATIC   6,21,899  hyderabad  \n",
       "5       April 2017  1st Owner  Petrol       MANUAL   5,24,199  hyderabad  \n",
       "..             ...        ...     ...          ...        ...        ...  \n",
       "257      July 2016  2nd Owner  Diesel       MANUAL   8,16,999     Mumbai  \n",
       "258   January 2017  1st Owner  Petrol       MANUAL   6,48,699     Mumbai  \n",
       "259       May 2017  1st Owner  Diesel       MANUAL   7,45,199     Mumbai  \n",
       "260   January 2015  1st Owner  Petrol       MANUAL   6,55,199     Mumbai  \n",
       "261      July 2017  1st Owner  Diesel       MANUAL  13,78,099     Mumbai  \n",
       "\n",
       "[251 rows x 9 columns]"
      ]
     },
     "execution_count": 239,
     "metadata": {},
     "output_type": "execute_result"
    }
   ],
   "source": [
    "car.dropna()"
   ]
  },
  {
   "cell_type": "code",
   "execution_count": 240,
   "id": "4f040095",
   "metadata": {},
   "outputs": [
    {
     "data": {
      "text/plain": [
       "(262, 9)"
      ]
     },
     "execution_count": 240,
     "metadata": {},
     "output_type": "execute_result"
    }
   ],
   "source": [
    "car.shape"
   ]
  },
  {
   "cell_type": "code",
   "execution_count": 241,
   "id": "afd909c1",
   "metadata": {},
   "outputs": [],
   "source": [
    "car['Year_purchase'] = pd.DatetimeIndex(car['Year_purchase']).year"
   ]
  },
  {
   "cell_type": "code",
   "execution_count": 242,
   "id": "429a860d",
   "metadata": {},
   "outputs": [
    {
     "data": {
      "text/html": [
       "<div>\n",
       "<style scoped>\n",
       "    .dataframe tbody tr th:only-of-type {\n",
       "        vertical-align: middle;\n",
       "    }\n",
       "\n",
       "    .dataframe tbody tr th {\n",
       "        vertical-align: top;\n",
       "    }\n",
       "\n",
       "    .dataframe thead th {\n",
       "        text-align: right;\n",
       "    }\n",
       "</style>\n",
       "<table border=\"1\" class=\"dataframe\">\n",
       "  <thead>\n",
       "    <tr style=\"text-align: right;\">\n",
       "      <th></th>\n",
       "      <th>Car</th>\n",
       "      <th>History</th>\n",
       "      <th>KM</th>\n",
       "      <th>Year_purchase</th>\n",
       "      <th>Owner</th>\n",
       "      <th>fuel</th>\n",
       "      <th>Transmission</th>\n",
       "      <th>Price</th>\n",
       "      <th>Location</th>\n",
       "    </tr>\n",
       "  </thead>\n",
       "  <tbody>\n",
       "    <tr>\n",
       "      <th>0</th>\n",
       "      <td>2016 Renault Kwid 1.0 RXT MANUAL</td>\n",
       "      <td>Non-Accidental</td>\n",
       "      <td>20,445</td>\n",
       "      <td>2016</td>\n",
       "      <td>1st Owner</td>\n",
       "      <td>Petrol</td>\n",
       "      <td>MANUAL</td>\n",
       "      <td>None</td>\n",
       "      <td>hyderabad</td>\n",
       "    </tr>\n",
       "    <tr>\n",
       "      <th>1</th>\n",
       "      <td>2018 Volkswagen Ameo HIGHLINE PLUS 1.0 MANUAL</td>\n",
       "      <td>Non-Accidental</td>\n",
       "      <td>65,235</td>\n",
       "      <td>2018</td>\n",
       "      <td>1st Owner</td>\n",
       "      <td>Petrol</td>\n",
       "      <td>MANUAL</td>\n",
       "      <td>3,33,899</td>\n",
       "      <td>hyderabad</td>\n",
       "    </tr>\n",
       "    <tr>\n",
       "      <th>2</th>\n",
       "      <td>2017 Skoda Octavia Style 1.4 TSI MT MANUAL</td>\n",
       "      <td>Non-Accidental</td>\n",
       "      <td>47,264</td>\n",
       "      <td>2017</td>\n",
       "      <td>1st Owner</td>\n",
       "      <td>Petrol</td>\n",
       "      <td>MANUAL</td>\n",
       "      <td>6,21,899</td>\n",
       "      <td>hyderabad</td>\n",
       "    </tr>\n",
       "    <tr>\n",
       "      <th>3</th>\n",
       "      <td>2016 Maruti Baleno ZETA 1.2 K12 MANUAL</td>\n",
       "      <td>Non-Accidental</td>\n",
       "      <td>1,03,354</td>\n",
       "      <td>2016</td>\n",
       "      <td>1st Owner</td>\n",
       "      <td>Petrol</td>\n",
       "      <td>MANUAL</td>\n",
       "      <td>13,05,499</td>\n",
       "      <td>hyderabad</td>\n",
       "    </tr>\n",
       "    <tr>\n",
       "      <th>4</th>\n",
       "      <td>2015 Honda Jazz 1.2 V AT AUTOMATIC</td>\n",
       "      <td>Non-Accidental</td>\n",
       "      <td>65,571</td>\n",
       "      <td>2015</td>\n",
       "      <td>2nd Owner</td>\n",
       "      <td>Petrol</td>\n",
       "      <td>AUTOMATIC</td>\n",
       "      <td>6,21,899</td>\n",
       "      <td>hyderabad</td>\n",
       "    </tr>\n",
       "    <tr>\n",
       "      <th>...</th>\n",
       "      <td>...</td>\n",
       "      <td>...</td>\n",
       "      <td>...</td>\n",
       "      <td>...</td>\n",
       "      <td>...</td>\n",
       "      <td>...</td>\n",
       "      <td>...</td>\n",
       "      <td>...</td>\n",
       "      <td>...</td>\n",
       "    </tr>\n",
       "    <tr>\n",
       "      <th>257</th>\n",
       "      <td>2016 Maruti Ertiga ZDI SHVS MANUAL</td>\n",
       "      <td>Non-Accidental</td>\n",
       "      <td>66,982</td>\n",
       "      <td>2016</td>\n",
       "      <td>2nd Owner</td>\n",
       "      <td>Diesel</td>\n",
       "      <td>MANUAL</td>\n",
       "      <td>8,16,999</td>\n",
       "      <td>Mumbai</td>\n",
       "    </tr>\n",
       "    <tr>\n",
       "      <th>258</th>\n",
       "      <td>2017 Hyundai i20 Active 1.2 SX MANUAL</td>\n",
       "      <td>Non-Accidental</td>\n",
       "      <td>12,910</td>\n",
       "      <td>2017</td>\n",
       "      <td>1st Owner</td>\n",
       "      <td>Petrol</td>\n",
       "      <td>MANUAL</td>\n",
       "      <td>6,48,699</td>\n",
       "      <td>Mumbai</td>\n",
       "    </tr>\n",
       "    <tr>\n",
       "      <th>259</th>\n",
       "      <td>2017 Maruti Vitara Brezza VDI OPT MANUAL</td>\n",
       "      <td>Non-Accidental</td>\n",
       "      <td>46,304</td>\n",
       "      <td>2017</td>\n",
       "      <td>1st Owner</td>\n",
       "      <td>Diesel</td>\n",
       "      <td>MANUAL</td>\n",
       "      <td>7,45,199</td>\n",
       "      <td>Mumbai</td>\n",
       "    </tr>\n",
       "    <tr>\n",
       "      <th>260</th>\n",
       "      <td>2015 Maruti Ciaz ZXI PLUS MANUAL</td>\n",
       "      <td>Non-Accidental</td>\n",
       "      <td>23,382</td>\n",
       "      <td>2015</td>\n",
       "      <td>1st Owner</td>\n",
       "      <td>Petrol</td>\n",
       "      <td>MANUAL</td>\n",
       "      <td>6,55,199</td>\n",
       "      <td>Mumbai</td>\n",
       "    </tr>\n",
       "    <tr>\n",
       "      <th>261</th>\n",
       "      <td>2017 Jeep Compass 2.0 LONGITUDE MANUAL</td>\n",
       "      <td>Non-Accidental</td>\n",
       "      <td>62,695</td>\n",
       "      <td>2017</td>\n",
       "      <td>1st Owner</td>\n",
       "      <td>Diesel</td>\n",
       "      <td>MANUAL</td>\n",
       "      <td>13,78,099</td>\n",
       "      <td>Mumbai</td>\n",
       "    </tr>\n",
       "  </tbody>\n",
       "</table>\n",
       "<p>262 rows × 9 columns</p>\n",
       "</div>"
      ],
      "text/plain": [
       "                                               Car         History        KM  \\\n",
       "0                 2016 Renault Kwid 1.0 RXT MANUAL  Non-Accidental    20,445   \n",
       "1    2018 Volkswagen Ameo HIGHLINE PLUS 1.0 MANUAL  Non-Accidental    65,235   \n",
       "2       2017 Skoda Octavia Style 1.4 TSI MT MANUAL  Non-Accidental    47,264   \n",
       "3           2016 Maruti Baleno ZETA 1.2 K12 MANUAL  Non-Accidental  1,03,354   \n",
       "4               2015 Honda Jazz 1.2 V AT AUTOMATIC  Non-Accidental    65,571   \n",
       "..                                             ...             ...       ...   \n",
       "257             2016 Maruti Ertiga ZDI SHVS MANUAL  Non-Accidental    66,982   \n",
       "258          2017 Hyundai i20 Active 1.2 SX MANUAL  Non-Accidental    12,910   \n",
       "259       2017 Maruti Vitara Brezza VDI OPT MANUAL  Non-Accidental    46,304   \n",
       "260               2015 Maruti Ciaz ZXI PLUS MANUAL  Non-Accidental    23,382   \n",
       "261         2017 Jeep Compass 2.0 LONGITUDE MANUAL  Non-Accidental    62,695   \n",
       "\n",
       "     Year_purchase      Owner    fuel Transmission      Price   Location  \n",
       "0             2016  1st Owner  Petrol       MANUAL       None  hyderabad  \n",
       "1             2018  1st Owner  Petrol       MANUAL   3,33,899  hyderabad  \n",
       "2             2017  1st Owner  Petrol       MANUAL   6,21,899  hyderabad  \n",
       "3             2016  1st Owner  Petrol       MANUAL  13,05,499  hyderabad  \n",
       "4             2015  2nd Owner  Petrol    AUTOMATIC   6,21,899  hyderabad  \n",
       "..             ...        ...     ...          ...        ...        ...  \n",
       "257           2016  2nd Owner  Diesel       MANUAL   8,16,999     Mumbai  \n",
       "258           2017  1st Owner  Petrol       MANUAL   6,48,699     Mumbai  \n",
       "259           2017  1st Owner  Diesel       MANUAL   7,45,199     Mumbai  \n",
       "260           2015  1st Owner  Petrol       MANUAL   6,55,199     Mumbai  \n",
       "261           2017  1st Owner  Diesel       MANUAL  13,78,099     Mumbai  \n",
       "\n",
       "[262 rows x 9 columns]"
      ]
     },
     "execution_count": 242,
     "metadata": {},
     "output_type": "execute_result"
    }
   ],
   "source": [
    "car"
   ]
  },
  {
   "cell_type": "code",
   "execution_count": 243,
   "id": "cd3ea5e5",
   "metadata": {},
   "outputs": [
    {
     "data": {
      "text/plain": [
       "2015 Maruti Swift VDI ABS MANUAL                 5\n",
       "2014 Maruti Swift VXI MANUAL                     5\n",
       "2018 Maruti Alto K10 VXI MANUAL                  4\n",
       "2019 Maruti Eeco 5 STR WITH AC PLUSHTR MANUAL    4\n",
       "2016 Renault Kwid 1.0 RXT MANUAL                 4\n",
       "                                                ..\n",
       "2012 Ford Fiesta TITANIUM DIESEL MANUAL          1\n",
       "2015 Hyundai Elite i20 ASTA 1.4 CRDI MANUAL      1\n",
       "2018 Hyundai Verna 1.6 CRDI SX + AT AUTOMATIC    1\n",
       "2013 Renault Duster 85 PS RXL OPT MANUAL         1\n",
       "2018 Hyundai Grand i10 SPORTS 1.2 VTVT MANUAL    1\n",
       "Name: Car, Length: 182, dtype: int64"
      ]
     },
     "execution_count": 243,
     "metadata": {},
     "output_type": "execute_result"
    }
   ],
   "source": [
    "car['Car'].value_counts()"
   ]
  },
  {
   "cell_type": "code",
   "execution_count": 244,
   "id": "ef152c6f",
   "metadata": {},
   "outputs": [
    {
     "data": {
      "image/png": "[encoded data removed]",
      "text/plain": [
       "<Figure size 432x288 with 1 Axes>"
      ]
     },
     "metadata": {
      "needs_background": "light"
     },
     "output_type": "display_data"
    }
   ],
   "source": [
    "plt.hist(car['Car'],color='g')\n",
    "figsize=(30,30)\n",
    "plt.show()"
   ]
  },
  {
   "cell_type": "markdown",
   "id": "61016b47",
   "metadata": {},
   "source": [
    "The car type: for Maruti model the number is high..rest are in approx same number"
   ]
  },
  {
   "cell_type": "code",
   "execution_count": 245,
   "id": "65fdaa36",
   "metadata": {},
   "outputs": [
    {
     "data": {
      "text/plain": [
       "Non-Accidental    262\n",
       "Name: History, dtype: int64"
      ]
     },
     "execution_count": 245,
     "metadata": {},
     "output_type": "execute_result"
    }
   ],
   "source": [
    "car['History'].value_counts()"
   ]
  },
  {
   "cell_type": "markdown",
   "id": "feca36c8",
   "metadata": {},
   "source": [
    "There is only one category in History: Non-Accidental, so can be dropped"
   ]
  },
  {
   "cell_type": "code",
   "execution_count": 246,
   "id": "88735f0f",
   "metadata": {},
   "outputs": [
    {
     "data": {
      "text/plain": [
       "1st Owner    202\n",
       "2nd Owner     54\n",
       "3rd Owner      3\n",
       "NAN            3\n",
       "Name: Owner, dtype: int64"
      ]
     },
     "execution_count": 246,
     "metadata": {},
     "output_type": "execute_result"
    }
   ],
   "source": [
    "car['Owner'].value_counts()"
   ]
  },
  {
   "cell_type": "code",
   "execution_count": 247,
   "id": "71b9ae35",
   "metadata": {},
   "outputs": [
    {
     "data": {
      "image/png": "[encoded data removed]",
      "text/plain": [
       "<Figure size 432x288 with 1 Axes>"
      ]
     },
     "metadata": {
      "needs_background": "light"
     },
     "output_type": "display_data"
    }
   ],
   "source": [
    "plt.hist(car['Owner'],color='g')\n",
    "figsize=(30,30)\n",
    "plt.show()"
   ]
  },
  {
   "cell_type": "markdown",
   "id": "3d735979",
   "metadata": {},
   "source": [
    "Mostly car are from 1st owner"
   ]
  },
  {
   "cell_type": "code",
   "execution_count": 248,
   "id": "263aca39",
   "metadata": {},
   "outputs": [
    {
     "data": {
      "text/plain": [
       "Petrol    144\n",
       "Diesel    115\n",
       "NAN         3\n",
       "Name: fuel, dtype: int64"
      ]
     },
     "execution_count": 248,
     "metadata": {},
     "output_type": "execute_result"
    }
   ],
   "source": [
    "car['fuel'].value_counts()"
   ]
  },
  {
   "cell_type": "code",
   "execution_count": 249,
   "id": "b06d6ef8",
   "metadata": {},
   "outputs": [
    {
     "data": {
      "image/png": "[encoded data removed]",
      "text/plain": [
       "<Figure size 432x288 with 1 Axes>"
      ]
     },
     "metadata": {
      "needs_background": "light"
     },
     "output_type": "display_data"
    }
   ],
   "source": [
    "plt.hist(car['fuel'],color='g')\n",
    "figsize=(30,30)\n",
    "plt.show()"
   ]
  },
  {
   "cell_type": "markdown",
   "id": "6be3edff",
   "metadata": {},
   "source": [
    "The number of petrol vehicle is more as compare to Diesel "
   ]
  },
  {
   "cell_type": "code",
   "execution_count": 250,
   "id": "89bb8328",
   "metadata": {},
   "outputs": [
    {
     "data": {
      "text/plain": [
       "MANUAL       222\n",
       "AUTOMATIC     31\n",
       "NAN            4\n",
       "Name: Transmission, dtype: int64"
      ]
     },
     "execution_count": 250,
     "metadata": {},
     "output_type": "execute_result"
    }
   ],
   "source": [
    "car['Transmission'].value_counts()"
   ]
  },
  {
   "cell_type": "markdown",
   "id": "bdc625ed",
   "metadata": {},
   "source": [
    "Maximum car as Manual transmission"
   ]
  },
  {
   "cell_type": "code",
   "execution_count": 251,
   "id": "e57b4061",
   "metadata": {},
   "outputs": [
    {
     "data": {
      "text/plain": [
       "hyderabad    122\n",
       "Delhi        120\n",
       "Mumbai        20\n",
       "Name: Location, dtype: int64"
      ]
     },
     "execution_count": 251,
     "metadata": {},
     "output_type": "execute_result"
    }
   ],
   "source": [
    "car['Location'].value_counts()"
   ]
  },
  {
   "cell_type": "code",
   "execution_count": 252,
   "id": "8bfd73d4",
   "metadata": {},
   "outputs": [
    {
     "data": {
      "image/png": "[encoded data removed]",
      "text/plain": [
       "<Figure size 432x288 with 1 Axes>"
      ]
     },
     "metadata": {
      "needs_background": "light"
     },
     "output_type": "display_data"
    }
   ],
   "source": [
    "plt.hist(car['Location'],color='g')\n",
    "figsize=(30,30)\n",
    "plt.show()"
   ]
  },
  {
   "cell_type": "markdown",
   "id": "ec60ca05",
   "metadata": {},
   "source": [
    "Mostly car data is scrapped from hyderabad and Delhi."
   ]
  },
  {
   "cell_type": "code",
   "execution_count": 253,
   "id": "8cec7461",
   "metadata": {},
   "outputs": [
    {
     "data": {
      "text/plain": [
       "0      5\n",
       "1      3\n",
       "2      4\n",
       "3      5\n",
       "4      6\n",
       "      ..\n",
       "257    5\n",
       "258    4\n",
       "259    4\n",
       "260    6\n",
       "261    4\n",
       "Name: Year_purchase, Length: 262, dtype: int64"
      ]
     },
     "execution_count": 253,
     "metadata": {},
     "output_type": "execute_result"
    }
   ],
   "source": [
    "car['Year_purchase']=2021-car['Year_purchase']\n",
    "car['Year_purchase']"
   ]
  },
  {
   "cell_type": "code",
   "execution_count": 254,
   "id": "7695a3bf",
   "metadata": {},
   "outputs": [
    {
     "data": {
      "text/plain": [
       "4     41\n",
       "6     39\n",
       "5     38\n",
       "3     32\n",
       "7     31\n",
       "2     22\n",
       "8     21\n",
       "1     13\n",
       "9     13\n",
       "10     6\n",
       "0      3\n",
       "11     3\n",
       "Name: Year_purchase, dtype: int64"
      ]
     },
     "execution_count": 254,
     "metadata": {},
     "output_type": "execute_result"
    }
   ],
   "source": [
    "car['Year_purchase'].value_counts()"
   ]
  },
  {
   "cell_type": "code",
   "execution_count": 255,
   "id": "7e990aa5",
   "metadata": {},
   "outputs": [],
   "source": [
    "df=car.assign(Price=car['Price'].str.replace(r',', ''))"
   ]
  },
  {
   "cell_type": "code",
   "execution_count": 256,
   "id": "2518f2b4",
   "metadata": {},
   "outputs": [
    {
     "data": {
      "text/plain": [
       "0         None\n",
       "1       333899\n",
       "2       621899\n",
       "3      1305499\n",
       "4       621899\n",
       "        ...   \n",
       "257     816999\n",
       "258     648699\n",
       "259     745199\n",
       "260     655199\n",
       "261    1378099\n",
       "Name: Price, Length: 262, dtype: object"
      ]
     },
     "execution_count": 256,
     "metadata": {},
     "output_type": "execute_result"
    }
   ],
   "source": [
    "df['Price']"
   ]
  },
  {
   "cell_type": "code",
   "execution_count": 257,
   "id": "d6c44145",
   "metadata": {},
   "outputs": [],
   "source": [
    "df['Price']=pd.to_numeric(df['Price'])"
   ]
  },
  {
   "cell_type": "code",
   "execution_count": 258,
   "id": "80b88035",
   "metadata": {},
   "outputs": [],
   "source": [
    "df['Price'] = df['Price'].div(100000).round(2)"
   ]
  },
  {
   "cell_type": "code",
   "execution_count": 259,
   "id": "d00f3593",
   "metadata": {},
   "outputs": [
    {
     "data": {
      "text/html": [
       "<div>\n",
       "<style scoped>\n",
       "    .dataframe tbody tr th:only-of-type {\n",
       "        vertical-align: middle;\n",
       "    }\n",
       "\n",
       "    .dataframe tbody tr th {\n",
       "        vertical-align: top;\n",
       "    }\n",
       "\n",
       "    .dataframe thead th {\n",
       "        text-align: right;\n",
       "    }\n",
       "</style>\n",
       "<table border=\"1\" class=\"dataframe\">\n",
       "  <thead>\n",
       "    <tr style=\"text-align: right;\">\n",
       "      <th></th>\n",
       "      <th>Car</th>\n",
       "      <th>History</th>\n",
       "      <th>KM</th>\n",
       "      <th>Year_purchase</th>\n",
       "      <th>Owner</th>\n",
       "      <th>fuel</th>\n",
       "      <th>Transmission</th>\n",
       "      <th>Price</th>\n",
       "      <th>Location</th>\n",
       "    </tr>\n",
       "  </thead>\n",
       "  <tbody>\n",
       "    <tr>\n",
       "      <th>0</th>\n",
       "      <td>2016 Renault Kwid 1.0 RXT MANUAL</td>\n",
       "      <td>Non-Accidental</td>\n",
       "      <td>20,445</td>\n",
       "      <td>5</td>\n",
       "      <td>1st Owner</td>\n",
       "      <td>Petrol</td>\n",
       "      <td>MANUAL</td>\n",
       "      <td>NaN</td>\n",
       "      <td>hyderabad</td>\n",
       "    </tr>\n",
       "    <tr>\n",
       "      <th>1</th>\n",
       "      <td>2018 Volkswagen Ameo HIGHLINE PLUS 1.0 MANUAL</td>\n",
       "      <td>Non-Accidental</td>\n",
       "      <td>65,235</td>\n",
       "      <td>3</td>\n",
       "      <td>1st Owner</td>\n",
       "      <td>Petrol</td>\n",
       "      <td>MANUAL</td>\n",
       "      <td>3.34</td>\n",
       "      <td>hyderabad</td>\n",
       "    </tr>\n",
       "    <tr>\n",
       "      <th>2</th>\n",
       "      <td>2017 Skoda Octavia Style 1.4 TSI MT MANUAL</td>\n",
       "      <td>Non-Accidental</td>\n",
       "      <td>47,264</td>\n",
       "      <td>4</td>\n",
       "      <td>1st Owner</td>\n",
       "      <td>Petrol</td>\n",
       "      <td>MANUAL</td>\n",
       "      <td>6.22</td>\n",
       "      <td>hyderabad</td>\n",
       "    </tr>\n",
       "    <tr>\n",
       "      <th>3</th>\n",
       "      <td>2016 Maruti Baleno ZETA 1.2 K12 MANUAL</td>\n",
       "      <td>Non-Accidental</td>\n",
       "      <td>1,03,354</td>\n",
       "      <td>5</td>\n",
       "      <td>1st Owner</td>\n",
       "      <td>Petrol</td>\n",
       "      <td>MANUAL</td>\n",
       "      <td>13.05</td>\n",
       "      <td>hyderabad</td>\n",
       "    </tr>\n",
       "    <tr>\n",
       "      <th>4</th>\n",
       "      <td>2015 Honda Jazz 1.2 V AT AUTOMATIC</td>\n",
       "      <td>Non-Accidental</td>\n",
       "      <td>65,571</td>\n",
       "      <td>6</td>\n",
       "      <td>2nd Owner</td>\n",
       "      <td>Petrol</td>\n",
       "      <td>AUTOMATIC</td>\n",
       "      <td>6.22</td>\n",
       "      <td>hyderabad</td>\n",
       "    </tr>\n",
       "    <tr>\n",
       "      <th>...</th>\n",
       "      <td>...</td>\n",
       "      <td>...</td>\n",
       "      <td>...</td>\n",
       "      <td>...</td>\n",
       "      <td>...</td>\n",
       "      <td>...</td>\n",
       "      <td>...</td>\n",
       "      <td>...</td>\n",
       "      <td>...</td>\n",
       "    </tr>\n",
       "    <tr>\n",
       "      <th>257</th>\n",
       "      <td>2016 Maruti Ertiga ZDI SHVS MANUAL</td>\n",
       "      <td>Non-Accidental</td>\n",
       "      <td>66,982</td>\n",
       "      <td>5</td>\n",
       "      <td>2nd Owner</td>\n",
       "      <td>Diesel</td>\n",
       "      <td>MANUAL</td>\n",
       "      <td>8.17</td>\n",
       "      <td>Mumbai</td>\n",
       "    </tr>\n",
       "    <tr>\n",
       "      <th>258</th>\n",
       "      <td>2017 Hyundai i20 Active 1.2 SX MANUAL</td>\n",
       "      <td>Non-Accidental</td>\n",
       "      <td>12,910</td>\n",
       "      <td>4</td>\n",
       "      <td>1st Owner</td>\n",
       "      <td>Petrol</td>\n",
       "      <td>MANUAL</td>\n",
       "      <td>6.49</td>\n",
       "      <td>Mumbai</td>\n",
       "    </tr>\n",
       "    <tr>\n",
       "      <th>259</th>\n",
       "      <td>2017 Maruti Vitara Brezza VDI OPT MANUAL</td>\n",
       "      <td>Non-Accidental</td>\n",
       "      <td>46,304</td>\n",
       "      <td>4</td>\n",
       "      <td>1st Owner</td>\n",
       "      <td>Diesel</td>\n",
       "      <td>MANUAL</td>\n",
       "      <td>7.45</td>\n",
       "      <td>Mumbai</td>\n",
       "    </tr>\n",
       "    <tr>\n",
       "      <th>260</th>\n",
       "      <td>2015 Maruti Ciaz ZXI PLUS MANUAL</td>\n",
       "      <td>Non-Accidental</td>\n",
       "      <td>23,382</td>\n",
       "      <td>6</td>\n",
       "      <td>1st Owner</td>\n",
       "      <td>Petrol</td>\n",
       "      <td>MANUAL</td>\n",
       "      <td>6.55</td>\n",
       "      <td>Mumbai</td>\n",
       "    </tr>\n",
       "    <tr>\n",
       "      <th>261</th>\n",
       "      <td>2017 Jeep Compass 2.0 LONGITUDE MANUAL</td>\n",
       "      <td>Non-Accidental</td>\n",
       "      <td>62,695</td>\n",
       "      <td>4</td>\n",
       "      <td>1st Owner</td>\n",
       "      <td>Diesel</td>\n",
       "      <td>MANUAL</td>\n",
       "      <td>13.78</td>\n",
       "      <td>Mumbai</td>\n",
       "    </tr>\n",
       "  </tbody>\n",
       "</table>\n",
       "<p>262 rows × 9 columns</p>\n",
       "</div>"
      ],
      "text/plain": [
       "                                               Car         History        KM  \\\n",
       "0                 2016 Renault Kwid 1.0 RXT MANUAL  Non-Accidental    20,445   \n",
       "1    2018 Volkswagen Ameo HIGHLINE PLUS 1.0 MANUAL  Non-Accidental    65,235   \n",
       "2       2017 Skoda Octavia Style 1.4 TSI MT MANUAL  Non-Accidental    47,264   \n",
       "3           2016 Maruti Baleno ZETA 1.2 K12 MANUAL  Non-Accidental  1,03,354   \n",
       "4               2015 Honda Jazz 1.2 V AT AUTOMATIC  Non-Accidental    65,571   \n",
       "..                                             ...             ...       ...   \n",
       "257             2016 Maruti Ertiga ZDI SHVS MANUAL  Non-Accidental    66,982   \n",
       "258          2017 Hyundai i20 Active 1.2 SX MANUAL  Non-Accidental    12,910   \n",
       "259       2017 Maruti Vitara Brezza VDI OPT MANUAL  Non-Accidental    46,304   \n",
       "260               2015 Maruti Ciaz ZXI PLUS MANUAL  Non-Accidental    23,382   \n",
       "261         2017 Jeep Compass 2.0 LONGITUDE MANUAL  Non-Accidental    62,695   \n",
       "\n",
       "     Year_purchase      Owner    fuel Transmission  Price   Location  \n",
       "0                5  1st Owner  Petrol       MANUAL    NaN  hyderabad  \n",
       "1                3  1st Owner  Petrol       MANUAL   3.34  hyderabad  \n",
       "2                4  1st Owner  Petrol       MANUAL   6.22  hyderabad  \n",
       "3                5  1st Owner  Petrol       MANUAL  13.05  hyderabad  \n",
       "4                6  2nd Owner  Petrol    AUTOMATIC   6.22  hyderabad  \n",
       "..             ...        ...     ...          ...    ...        ...  \n",
       "257              5  2nd Owner  Diesel       MANUAL   8.17     Mumbai  \n",
       "258              4  1st Owner  Petrol       MANUAL   6.49     Mumbai  \n",
       "259              4  1st Owner  Diesel       MANUAL   7.45     Mumbai  \n",
       "260              6  1st Owner  Petrol       MANUAL   6.55     Mumbai  \n",
       "261              4  1st Owner  Diesel       MANUAL  13.78     Mumbai  \n",
       "\n",
       "[262 rows x 9 columns]"
      ]
     },
     "execution_count": 259,
     "metadata": {},
     "output_type": "execute_result"
    }
   ],
   "source": [
    "df"
   ]
  },
  {
   "cell_type": "code",
   "execution_count": 260,
   "id": "1d9bca7e",
   "metadata": {},
   "outputs": [],
   "source": [
    "df['KM']=df['KM'].str.replace(',','')"
   ]
  },
  {
   "cell_type": "code",
   "execution_count": 261,
   "id": "a70b4d91",
   "metadata": {},
   "outputs": [
    {
     "data": {
      "text/html": [
       "<div>\n",
       "<style scoped>\n",
       "    .dataframe tbody tr th:only-of-type {\n",
       "        vertical-align: middle;\n",
       "    }\n",
       "\n",
       "    .dataframe tbody tr th {\n",
       "        vertical-align: top;\n",
       "    }\n",
       "\n",
       "    .dataframe thead th {\n",
       "        text-align: right;\n",
       "    }\n",
       "</style>\n",
       "<table border=\"1\" class=\"dataframe\">\n",
       "  <thead>\n",
       "    <tr style=\"text-align: right;\">\n",
       "      <th></th>\n",
       "      <th>Car</th>\n",
       "      <th>History</th>\n",
       "      <th>KM</th>\n",
       "      <th>Year_purchase</th>\n",
       "      <th>Owner</th>\n",
       "      <th>fuel</th>\n",
       "      <th>Transmission</th>\n",
       "      <th>Price</th>\n",
       "      <th>Location</th>\n",
       "    </tr>\n",
       "  </thead>\n",
       "  <tbody>\n",
       "    <tr>\n",
       "      <th>0</th>\n",
       "      <td>2016 Renault Kwid 1.0 RXT MANUAL</td>\n",
       "      <td>Non-Accidental</td>\n",
       "      <td>20445</td>\n",
       "      <td>5</td>\n",
       "      <td>1st Owner</td>\n",
       "      <td>Petrol</td>\n",
       "      <td>MANUAL</td>\n",
       "      <td>NaN</td>\n",
       "      <td>hyderabad</td>\n",
       "    </tr>\n",
       "    <tr>\n",
       "      <th>1</th>\n",
       "      <td>2018 Volkswagen Ameo HIGHLINE PLUS 1.0 MANUAL</td>\n",
       "      <td>Non-Accidental</td>\n",
       "      <td>65235</td>\n",
       "      <td>3</td>\n",
       "      <td>1st Owner</td>\n",
       "      <td>Petrol</td>\n",
       "      <td>MANUAL</td>\n",
       "      <td>3.34</td>\n",
       "      <td>hyderabad</td>\n",
       "    </tr>\n",
       "    <tr>\n",
       "      <th>2</th>\n",
       "      <td>2017 Skoda Octavia Style 1.4 TSI MT MANUAL</td>\n",
       "      <td>Non-Accidental</td>\n",
       "      <td>47264</td>\n",
       "      <td>4</td>\n",
       "      <td>1st Owner</td>\n",
       "      <td>Petrol</td>\n",
       "      <td>MANUAL</td>\n",
       "      <td>6.22</td>\n",
       "      <td>hyderabad</td>\n",
       "    </tr>\n",
       "    <tr>\n",
       "      <th>3</th>\n",
       "      <td>2016 Maruti Baleno ZETA 1.2 K12 MANUAL</td>\n",
       "      <td>Non-Accidental</td>\n",
       "      <td>103354</td>\n",
       "      <td>5</td>\n",
       "      <td>1st Owner</td>\n",
       "      <td>Petrol</td>\n",
       "      <td>MANUAL</td>\n",
       "      <td>13.05</td>\n",
       "      <td>hyderabad</td>\n",
       "    </tr>\n",
       "    <tr>\n",
       "      <th>4</th>\n",
       "      <td>2015 Honda Jazz 1.2 V AT AUTOMATIC</td>\n",
       "      <td>Non-Accidental</td>\n",
       "      <td>65571</td>\n",
       "      <td>6</td>\n",
       "      <td>2nd Owner</td>\n",
       "      <td>Petrol</td>\n",
       "      <td>AUTOMATIC</td>\n",
       "      <td>6.22</td>\n",
       "      <td>hyderabad</td>\n",
       "    </tr>\n",
       "    <tr>\n",
       "      <th>...</th>\n",
       "      <td>...</td>\n",
       "      <td>...</td>\n",
       "      <td>...</td>\n",
       "      <td>...</td>\n",
       "      <td>...</td>\n",
       "      <td>...</td>\n",
       "      <td>...</td>\n",
       "      <td>...</td>\n",
       "      <td>...</td>\n",
       "    </tr>\n",
       "    <tr>\n",
       "      <th>257</th>\n",
       "      <td>2016 Maruti Ertiga ZDI SHVS MANUAL</td>\n",
       "      <td>Non-Accidental</td>\n",
       "      <td>66982</td>\n",
       "      <td>5</td>\n",
       "      <td>2nd Owner</td>\n",
       "      <td>Diesel</td>\n",
       "      <td>MANUAL</td>\n",
       "      <td>8.17</td>\n",
       "      <td>Mumbai</td>\n",
       "    </tr>\n",
       "    <tr>\n",
       "      <th>258</th>\n",
       "      <td>2017 Hyundai i20 Active 1.2 SX MANUAL</td>\n",
       "      <td>Non-Accidental</td>\n",
       "      <td>12910</td>\n",
       "      <td>4</td>\n",
       "      <td>1st Owner</td>\n",
       "      <td>Petrol</td>\n",
       "      <td>MANUAL</td>\n",
       "      <td>6.49</td>\n",
       "      <td>Mumbai</td>\n",
       "    </tr>\n",
       "    <tr>\n",
       "      <th>259</th>\n",
       "      <td>2017 Maruti Vitara Brezza VDI OPT MANUAL</td>\n",
       "      <td>Non-Accidental</td>\n",
       "      <td>46304</td>\n",
       "      <td>4</td>\n",
       "      <td>1st Owner</td>\n",
       "      <td>Diesel</td>\n",
       "      <td>MANUAL</td>\n",
       "      <td>7.45</td>\n",
       "      <td>Mumbai</td>\n",
       "    </tr>\n",
       "    <tr>\n",
       "      <th>260</th>\n",
       "      <td>2015 Maruti Ciaz ZXI PLUS MANUAL</td>\n",
       "      <td>Non-Accidental</td>\n",
       "      <td>23382</td>\n",
       "      <td>6</td>\n",
       "      <td>1st Owner</td>\n",
       "      <td>Petrol</td>\n",
       "      <td>MANUAL</td>\n",
       "      <td>6.55</td>\n",
       "      <td>Mumbai</td>\n",
       "    </tr>\n",
       "    <tr>\n",
       "      <th>261</th>\n",
       "      <td>2017 Jeep Compass 2.0 LONGITUDE MANUAL</td>\n",
       "      <td>Non-Accidental</td>\n",
       "      <td>62695</td>\n",
       "      <td>4</td>\n",
       "      <td>1st Owner</td>\n",
       "      <td>Diesel</td>\n",
       "      <td>MANUAL</td>\n",
       "      <td>13.78</td>\n",
       "      <td>Mumbai</td>\n",
       "    </tr>\n",
       "  </tbody>\n",
       "</table>\n",
       "<p>262 rows × 9 columns</p>\n",
       "</div>"
      ],
      "text/plain": [
       "                                               Car         History      KM  \\\n",
       "0                 2016 Renault Kwid 1.0 RXT MANUAL  Non-Accidental   20445   \n",
       "1    2018 Volkswagen Ameo HIGHLINE PLUS 1.0 MANUAL  Non-Accidental   65235   \n",
       "2       2017 Skoda Octavia Style 1.4 TSI MT MANUAL  Non-Accidental   47264   \n",
       "3           2016 Maruti Baleno ZETA 1.2 K12 MANUAL  Non-Accidental  103354   \n",
       "4               2015 Honda Jazz 1.2 V AT AUTOMATIC  Non-Accidental   65571   \n",
       "..                                             ...             ...     ...   \n",
       "257             2016 Maruti Ertiga ZDI SHVS MANUAL  Non-Accidental   66982   \n",
       "258          2017 Hyundai i20 Active 1.2 SX MANUAL  Non-Accidental   12910   \n",
       "259       2017 Maruti Vitara Brezza VDI OPT MANUAL  Non-Accidental   46304   \n",
       "260               2015 Maruti Ciaz ZXI PLUS MANUAL  Non-Accidental   23382   \n",
       "261         2017 Jeep Compass 2.0 LONGITUDE MANUAL  Non-Accidental   62695   \n",
       "\n",
       "     Year_purchase      Owner    fuel Transmission  Price   Location  \n",
       "0                5  1st Owner  Petrol       MANUAL    NaN  hyderabad  \n",
       "1                3  1st Owner  Petrol       MANUAL   3.34  hyderabad  \n",
       "2                4  1st Owner  Petrol       MANUAL   6.22  hyderabad  \n",
       "3                5  1st Owner  Petrol       MANUAL  13.05  hyderabad  \n",
       "4                6  2nd Owner  Petrol    AUTOMATIC   6.22  hyderabad  \n",
       "..             ...        ...     ...          ...    ...        ...  \n",
       "257              5  2nd Owner  Diesel       MANUAL   8.17     Mumbai  \n",
       "258              4  1st Owner  Petrol       MANUAL   6.49     Mumbai  \n",
       "259              4  1st Owner  Diesel       MANUAL   7.45     Mumbai  \n",
       "260              6  1st Owner  Petrol       MANUAL   6.55     Mumbai  \n",
       "261              4  1st Owner  Diesel       MANUAL  13.78     Mumbai  \n",
       "\n",
       "[262 rows x 9 columns]"
      ]
     },
     "execution_count": 261,
     "metadata": {},
     "output_type": "execute_result"
    }
   ],
   "source": [
    "df"
   ]
  },
  {
   "cell_type": "code",
   "execution_count": 262,
   "id": "b4356aae",
   "metadata": {},
   "outputs": [
    {
     "data": {
      "text/plain": [
       "Car              0\n",
       "History          0\n",
       "KM               0\n",
       "Year_purchase    0\n",
       "Owner            0\n",
       "fuel             0\n",
       "Transmission     5\n",
       "Price            6\n",
       "Location         0\n",
       "dtype: int64"
      ]
     },
     "execution_count": 262,
     "metadata": {},
     "output_type": "execute_result"
    }
   ],
   "source": [
    "df.isnull().sum()"
   ]
  },
  {
   "cell_type": "code",
   "execution_count": 263,
   "id": "fb62df84",
   "metadata": {},
   "outputs": [],
   "source": [
    "df1=df.dropna()"
   ]
  },
  {
   "cell_type": "code",
   "execution_count": 264,
   "id": "6a0c200e",
   "metadata": {},
   "outputs": [
    {
     "data": {
      "text/plain": [
       "Car              0\n",
       "History          0\n",
       "KM               0\n",
       "Year_purchase    0\n",
       "Owner            0\n",
       "fuel             0\n",
       "Transmission     0\n",
       "Price            0\n",
       "Location         0\n",
       "dtype: int64"
      ]
     },
     "execution_count": 264,
     "metadata": {},
     "output_type": "execute_result"
    }
   ],
   "source": [
    "df1.isnull().sum()"
   ]
  },
  {
   "cell_type": "code",
   "execution_count": 265,
   "id": "fb760dc9",
   "metadata": {},
   "outputs": [
    {
     "data": {
      "text/html": [
       "<div>\n",
       "<style scoped>\n",
       "    .dataframe tbody tr th:only-of-type {\n",
       "        vertical-align: middle;\n",
       "    }\n",
       "\n",
       "    .dataframe tbody tr th {\n",
       "        vertical-align: top;\n",
       "    }\n",
       "\n",
       "    .dataframe thead th {\n",
       "        text-align: right;\n",
       "    }\n",
       "</style>\n",
       "<table border=\"1\" class=\"dataframe\">\n",
       "  <thead>\n",
       "    <tr style=\"text-align: right;\">\n",
       "      <th></th>\n",
       "      <th>Car</th>\n",
       "      <th>History</th>\n",
       "      <th>KM</th>\n",
       "      <th>Year_purchase</th>\n",
       "      <th>Owner</th>\n",
       "      <th>fuel</th>\n",
       "      <th>Transmission</th>\n",
       "      <th>Price</th>\n",
       "      <th>Location</th>\n",
       "    </tr>\n",
       "  </thead>\n",
       "  <tbody>\n",
       "    <tr>\n",
       "      <th>1</th>\n",
       "      <td>2018 Volkswagen Ameo HIGHLINE PLUS 1.0 MANUAL</td>\n",
       "      <td>Non-Accidental</td>\n",
       "      <td>65235</td>\n",
       "      <td>3</td>\n",
       "      <td>1st Owner</td>\n",
       "      <td>Petrol</td>\n",
       "      <td>MANUAL</td>\n",
       "      <td>3.34</td>\n",
       "      <td>hyderabad</td>\n",
       "    </tr>\n",
       "    <tr>\n",
       "      <th>2</th>\n",
       "      <td>2017 Skoda Octavia Style 1.4 TSI MT MANUAL</td>\n",
       "      <td>Non-Accidental</td>\n",
       "      <td>47264</td>\n",
       "      <td>4</td>\n",
       "      <td>1st Owner</td>\n",
       "      <td>Petrol</td>\n",
       "      <td>MANUAL</td>\n",
       "      <td>6.22</td>\n",
       "      <td>hyderabad</td>\n",
       "    </tr>\n",
       "    <tr>\n",
       "      <th>3</th>\n",
       "      <td>2016 Maruti Baleno ZETA 1.2 K12 MANUAL</td>\n",
       "      <td>Non-Accidental</td>\n",
       "      <td>103354</td>\n",
       "      <td>5</td>\n",
       "      <td>1st Owner</td>\n",
       "      <td>Petrol</td>\n",
       "      <td>MANUAL</td>\n",
       "      <td>13.05</td>\n",
       "      <td>hyderabad</td>\n",
       "    </tr>\n",
       "    <tr>\n",
       "      <th>4</th>\n",
       "      <td>2015 Honda Jazz 1.2 V AT AUTOMATIC</td>\n",
       "      <td>Non-Accidental</td>\n",
       "      <td>65571</td>\n",
       "      <td>6</td>\n",
       "      <td>2nd Owner</td>\n",
       "      <td>Petrol</td>\n",
       "      <td>AUTOMATIC</td>\n",
       "      <td>6.22</td>\n",
       "      <td>hyderabad</td>\n",
       "    </tr>\n",
       "    <tr>\n",
       "      <th>5</th>\n",
       "      <td>2017 Maruti Baleno DELTA 1.2 K12 MANUAL</td>\n",
       "      <td>Non-Accidental</td>\n",
       "      <td>22876</td>\n",
       "      <td>4</td>\n",
       "      <td>1st Owner</td>\n",
       "      <td>Petrol</td>\n",
       "      <td>MANUAL</td>\n",
       "      <td>5.24</td>\n",
       "      <td>hyderabad</td>\n",
       "    </tr>\n",
       "    <tr>\n",
       "      <th>...</th>\n",
       "      <td>...</td>\n",
       "      <td>...</td>\n",
       "      <td>...</td>\n",
       "      <td>...</td>\n",
       "      <td>...</td>\n",
       "      <td>...</td>\n",
       "      <td>...</td>\n",
       "      <td>...</td>\n",
       "      <td>...</td>\n",
       "    </tr>\n",
       "    <tr>\n",
       "      <th>257</th>\n",
       "      <td>2016 Maruti Ertiga ZDI SHVS MANUAL</td>\n",
       "      <td>Non-Accidental</td>\n",
       "      <td>66982</td>\n",
       "      <td>5</td>\n",
       "      <td>2nd Owner</td>\n",
       "      <td>Diesel</td>\n",
       "      <td>MANUAL</td>\n",
       "      <td>8.17</td>\n",
       "      <td>Mumbai</td>\n",
       "    </tr>\n",
       "    <tr>\n",
       "      <th>258</th>\n",
       "      <td>2017 Hyundai i20 Active 1.2 SX MANUAL</td>\n",
       "      <td>Non-Accidental</td>\n",
       "      <td>12910</td>\n",
       "      <td>4</td>\n",
       "      <td>1st Owner</td>\n",
       "      <td>Petrol</td>\n",
       "      <td>MANUAL</td>\n",
       "      <td>6.49</td>\n",
       "      <td>Mumbai</td>\n",
       "    </tr>\n",
       "    <tr>\n",
       "      <th>259</th>\n",
       "      <td>2017 Maruti Vitara Brezza VDI OPT MANUAL</td>\n",
       "      <td>Non-Accidental</td>\n",
       "      <td>46304</td>\n",
       "      <td>4</td>\n",
       "      <td>1st Owner</td>\n",
       "      <td>Diesel</td>\n",
       "      <td>MANUAL</td>\n",
       "      <td>7.45</td>\n",
       "      <td>Mumbai</td>\n",
       "    </tr>\n",
       "    <tr>\n",
       "      <th>260</th>\n",
       "      <td>2015 Maruti Ciaz ZXI PLUS MANUAL</td>\n",
       "      <td>Non-Accidental</td>\n",
       "      <td>23382</td>\n",
       "      <td>6</td>\n",
       "      <td>1st Owner</td>\n",
       "      <td>Petrol</td>\n",
       "      <td>MANUAL</td>\n",
       "      <td>6.55</td>\n",
       "      <td>Mumbai</td>\n",
       "    </tr>\n",
       "    <tr>\n",
       "      <th>261</th>\n",
       "      <td>2017 Jeep Compass 2.0 LONGITUDE MANUAL</td>\n",
       "      <td>Non-Accidental</td>\n",
       "      <td>62695</td>\n",
       "      <td>4</td>\n",
       "      <td>1st Owner</td>\n",
       "      <td>Diesel</td>\n",
       "      <td>MANUAL</td>\n",
       "      <td>13.78</td>\n",
       "      <td>Mumbai</td>\n",
       "    </tr>\n",
       "  </tbody>\n",
       "</table>\n",
       "<p>251 rows × 9 columns</p>\n",
       "</div>"
      ],
      "text/plain": [
       "                                               Car         History      KM  \\\n",
       "1    2018 Volkswagen Ameo HIGHLINE PLUS 1.0 MANUAL  Non-Accidental   65235   \n",
       "2       2017 Skoda Octavia Style 1.4 TSI MT MANUAL  Non-Accidental   47264   \n",
       "3           2016 Maruti Baleno ZETA 1.2 K12 MANUAL  Non-Accidental  103354   \n",
       "4               2015 Honda Jazz 1.2 V AT AUTOMATIC  Non-Accidental   65571   \n",
       "5          2017 Maruti Baleno DELTA 1.2 K12 MANUAL  Non-Accidental   22876   \n",
       "..                                             ...             ...     ...   \n",
       "257             2016 Maruti Ertiga ZDI SHVS MANUAL  Non-Accidental   66982   \n",
       "258          2017 Hyundai i20 Active 1.2 SX MANUAL  Non-Accidental   12910   \n",
       "259       2017 Maruti Vitara Brezza VDI OPT MANUAL  Non-Accidental   46304   \n",
       "260               2015 Maruti Ciaz ZXI PLUS MANUAL  Non-Accidental   23382   \n",
       "261         2017 Jeep Compass 2.0 LONGITUDE MANUAL  Non-Accidental   62695   \n",
       "\n",
       "     Year_purchase      Owner    fuel Transmission  Price   Location  \n",
       "1                3  1st Owner  Petrol       MANUAL   3.34  hyderabad  \n",
       "2                4  1st Owner  Petrol       MANUAL   6.22  hyderabad  \n",
       "3                5  1st Owner  Petrol       MANUAL  13.05  hyderabad  \n",
       "4                6  2nd Owner  Petrol    AUTOMATIC   6.22  hyderabad  \n",
       "5                4  1st Owner  Petrol       MANUAL   5.24  hyderabad  \n",
       "..             ...        ...     ...          ...    ...        ...  \n",
       "257              5  2nd Owner  Diesel       MANUAL   8.17     Mumbai  \n",
       "258              4  1st Owner  Petrol       MANUAL   6.49     Mumbai  \n",
       "259              4  1st Owner  Diesel       MANUAL   7.45     Mumbai  \n",
       "260              6  1st Owner  Petrol       MANUAL   6.55     Mumbai  \n",
       "261              4  1st Owner  Diesel       MANUAL  13.78     Mumbai  \n",
       "\n",
       "[251 rows x 9 columns]"
      ]
     },
     "execution_count": 265,
     "metadata": {},
     "output_type": "execute_result"
    }
   ],
   "source": [
    "df1"
   ]
  },
  {
   "cell_type": "code",
   "execution_count": 266,
   "id": "6a149f16",
   "metadata": {},
   "outputs": [],
   "source": [
    "df2=df1.drop(['History'], axis = 1)"
   ]
  },
  {
   "cell_type": "code",
   "execution_count": 267,
   "id": "b0c7fa10",
   "metadata": {},
   "outputs": [
    {
     "data": {
      "text/html": [
       "<div>\n",
       "<style scoped>\n",
       "    .dataframe tbody tr th:only-of-type {\n",
       "        vertical-align: middle;\n",
       "    }\n",
       "\n",
       "    .dataframe tbody tr th {\n",
       "        vertical-align: top;\n",
       "    }\n",
       "\n",
       "    .dataframe thead th {\n",
       "        text-align: right;\n",
       "    }\n",
       "</style>\n",
       "<table border=\"1\" class=\"dataframe\">\n",
       "  <thead>\n",
       "    <tr style=\"text-align: right;\">\n",
       "      <th></th>\n",
       "      <th>Car</th>\n",
       "      <th>KM</th>\n",
       "      <th>Year_purchase</th>\n",
       "      <th>Owner</th>\n",
       "      <th>fuel</th>\n",
       "      <th>Transmission</th>\n",
       "      <th>Price</th>\n",
       "      <th>Location</th>\n",
       "    </tr>\n",
       "  </thead>\n",
       "  <tbody>\n",
       "    <tr>\n",
       "      <th>1</th>\n",
       "      <td>2018 Volkswagen Ameo HIGHLINE PLUS 1.0 MANUAL</td>\n",
       "      <td>65235</td>\n",
       "      <td>3</td>\n",
       "      <td>1st Owner</td>\n",
       "      <td>Petrol</td>\n",
       "      <td>MANUAL</td>\n",
       "      <td>3.34</td>\n",
       "      <td>hyderabad</td>\n",
       "    </tr>\n",
       "    <tr>\n",
       "      <th>2</th>\n",
       "      <td>2017 Skoda Octavia Style 1.4 TSI MT MANUAL</td>\n",
       "      <td>47264</td>\n",
       "      <td>4</td>\n",
       "      <td>1st Owner</td>\n",
       "      <td>Petrol</td>\n",
       "      <td>MANUAL</td>\n",
       "      <td>6.22</td>\n",
       "      <td>hyderabad</td>\n",
       "    </tr>\n",
       "    <tr>\n",
       "      <th>3</th>\n",
       "      <td>2016 Maruti Baleno ZETA 1.2 K12 MANUAL</td>\n",
       "      <td>103354</td>\n",
       "      <td>5</td>\n",
       "      <td>1st Owner</td>\n",
       "      <td>Petrol</td>\n",
       "      <td>MANUAL</td>\n",
       "      <td>13.05</td>\n",
       "      <td>hyderabad</td>\n",
       "    </tr>\n",
       "    <tr>\n",
       "      <th>4</th>\n",
       "      <td>2015 Honda Jazz 1.2 V AT AUTOMATIC</td>\n",
       "      <td>65571</td>\n",
       "      <td>6</td>\n",
       "      <td>2nd Owner</td>\n",
       "      <td>Petrol</td>\n",
       "      <td>AUTOMATIC</td>\n",
       "      <td>6.22</td>\n",
       "      <td>hyderabad</td>\n",
       "    </tr>\n",
       "    <tr>\n",
       "      <th>5</th>\n",
       "      <td>2017 Maruti Baleno DELTA 1.2 K12 MANUAL</td>\n",
       "      <td>22876</td>\n",
       "      <td>4</td>\n",
       "      <td>1st Owner</td>\n",
       "      <td>Petrol</td>\n",
       "      <td>MANUAL</td>\n",
       "      <td>5.24</td>\n",
       "      <td>hyderabad</td>\n",
       "    </tr>\n",
       "    <tr>\n",
       "      <th>...</th>\n",
       "      <td>...</td>\n",
       "      <td>...</td>\n",
       "      <td>...</td>\n",
       "      <td>...</td>\n",
       "      <td>...</td>\n",
       "      <td>...</td>\n",
       "      <td>...</td>\n",
       "      <td>...</td>\n",
       "    </tr>\n",
       "    <tr>\n",
       "      <th>257</th>\n",
       "      <td>2016 Maruti Ertiga ZDI SHVS MANUAL</td>\n",
       "      <td>66982</td>\n",
       "      <td>5</td>\n",
       "      <td>2nd Owner</td>\n",
       "      <td>Diesel</td>\n",
       "      <td>MANUAL</td>\n",
       "      <td>8.17</td>\n",
       "      <td>Mumbai</td>\n",
       "    </tr>\n",
       "    <tr>\n",
       "      <th>258</th>\n",
       "      <td>2017 Hyundai i20 Active 1.2 SX MANUAL</td>\n",
       "      <td>12910</td>\n",
       "      <td>4</td>\n",
       "      <td>1st Owner</td>\n",
       "      <td>Petrol</td>\n",
       "      <td>MANUAL</td>\n",
       "      <td>6.49</td>\n",
       "      <td>Mumbai</td>\n",
       "    </tr>\n",
       "    <tr>\n",
       "      <th>259</th>\n",
       "      <td>2017 Maruti Vitara Brezza VDI OPT MANUAL</td>\n",
       "      <td>46304</td>\n",
       "      <td>4</td>\n",
       "      <td>1st Owner</td>\n",
       "      <td>Diesel</td>\n",
       "      <td>MANUAL</td>\n",
       "      <td>7.45</td>\n",
       "      <td>Mumbai</td>\n",
       "    </tr>\n",
       "    <tr>\n",
       "      <th>260</th>\n",
       "      <td>2015 Maruti Ciaz ZXI PLUS MANUAL</td>\n",
       "      <td>23382</td>\n",
       "      <td>6</td>\n",
       "      <td>1st Owner</td>\n",
       "      <td>Petrol</td>\n",
       "      <td>MANUAL</td>\n",
       "      <td>6.55</td>\n",
       "      <td>Mumbai</td>\n",
       "    </tr>\n",
       "    <tr>\n",
       "      <th>261</th>\n",
       "      <td>2017 Jeep Compass 2.0 LONGITUDE MANUAL</td>\n",
       "      <td>62695</td>\n",
       "      <td>4</td>\n",
       "      <td>1st Owner</td>\n",
       "      <td>Diesel</td>\n",
       "      <td>MANUAL</td>\n",
       "      <td>13.78</td>\n",
       "      <td>Mumbai</td>\n",
       "    </tr>\n",
       "  </tbody>\n",
       "</table>\n",
       "<p>251 rows × 8 columns</p>\n",
       "</div>"
      ],
      "text/plain": [
       "                                               Car      KM  Year_purchase  \\\n",
       "1    2018 Volkswagen Ameo HIGHLINE PLUS 1.0 MANUAL   65235              3   \n",
       "2       2017 Skoda Octavia Style 1.4 TSI MT MANUAL   47264              4   \n",
       "3           2016 Maruti Baleno ZETA 1.2 K12 MANUAL  103354              5   \n",
       "4               2015 Honda Jazz 1.2 V AT AUTOMATIC   65571              6   \n",
       "5          2017 Maruti Baleno DELTA 1.2 K12 MANUAL   22876              4   \n",
       "..                                             ...     ...            ...   \n",
       "257             2016 Maruti Ertiga ZDI SHVS MANUAL   66982              5   \n",
       "258          2017 Hyundai i20 Active 1.2 SX MANUAL   12910              4   \n",
       "259       2017 Maruti Vitara Brezza VDI OPT MANUAL   46304              4   \n",
       "260               2015 Maruti Ciaz ZXI PLUS MANUAL   23382              6   \n",
       "261         2017 Jeep Compass 2.0 LONGITUDE MANUAL   62695              4   \n",
       "\n",
       "         Owner    fuel Transmission  Price   Location  \n",
       "1    1st Owner  Petrol       MANUAL   3.34  hyderabad  \n",
       "2    1st Owner  Petrol       MANUAL   6.22  hyderabad  \n",
       "3    1st Owner  Petrol       MANUAL  13.05  hyderabad  \n",
       "4    2nd Owner  Petrol    AUTOMATIC   6.22  hyderabad  \n",
       "5    1st Owner  Petrol       MANUAL   5.24  hyderabad  \n",
       "..         ...     ...          ...    ...        ...  \n",
       "257  2nd Owner  Diesel       MANUAL   8.17     Mumbai  \n",
       "258  1st Owner  Petrol       MANUAL   6.49     Mumbai  \n",
       "259  1st Owner  Diesel       MANUAL   7.45     Mumbai  \n",
       "260  1st Owner  Petrol       MANUAL   6.55     Mumbai  \n",
       "261  1st Owner  Diesel       MANUAL  13.78     Mumbai  \n",
       "\n",
       "[251 rows x 8 columns]"
      ]
     },
     "execution_count": 267,
     "metadata": {},
     "output_type": "execute_result"
    }
   ],
   "source": [
    "df2"
   ]
  },
  {
   "cell_type": "code",
   "execution_count": 268,
   "id": "1910d952",
   "metadata": {},
   "outputs": [
    {
     "data": {
      "image/png": "[encoded data removed]",
      "text/plain": [
       "<Figure size 432x288 with 1 Axes>"
      ]
     },
     "metadata": {
      "needs_background": "light"
     },
     "output_type": "display_data"
    }
   ],
   "source": [
    "sns.lineplot(x=\"Location\", y=\"Price\",data=df2)\n",
    "plt.show()"
   ]
  },
  {
   "cell_type": "markdown",
   "id": "2e96423b",
   "metadata": {},
   "source": [
    "Price are high in mumbai "
   ]
  },
  {
   "cell_type": "code",
   "execution_count": 269,
   "id": "7b6461d1",
   "metadata": {},
   "outputs": [],
   "source": [
    "df2['fuel']=df2['fuel'].replace('NAN', 'Diesel')"
   ]
  },
  {
   "cell_type": "code",
   "execution_count": 270,
   "id": "93028b2d",
   "metadata": {},
   "outputs": [
    {
     "data": {
      "text/plain": [
       "array(['Petrol', 'Diesel'], dtype=object)"
      ]
     },
     "execution_count": 270,
     "metadata": {},
     "output_type": "execute_result"
    }
   ],
   "source": [
    "df2['fuel'].unique()"
   ]
  },
  {
   "cell_type": "code",
   "execution_count": 271,
   "id": "b1c3be1a",
   "metadata": {},
   "outputs": [
    {
     "data": {
      "image/png": "[encoded data removed]",
      "text/plain": [
       "<Figure size 432x288 with 1 Axes>"
      ]
     },
     "metadata": {
      "needs_background": "light"
     },
     "output_type": "display_data"
    }
   ],
   "source": [
    "sns.lineplot(x=\"fuel\", y=\"Price\",data=df2)\n",
    "plt.show()"
   ]
  },
  {
   "cell_type": "markdown",
   "id": "efe8dc22",
   "metadata": {},
   "source": [
    "Petrol vehicle are more in demand than diesel"
   ]
  },
  {
   "cell_type": "code",
   "execution_count": 272,
   "id": "be6ba5d1",
   "metadata": {},
   "outputs": [
    {
     "data": {
      "image/png": "[encoded data removed]",
      "text/plain": [
       "<Figure size 432x288 with 1 Axes>"
      ]
     },
     "metadata": {
      "needs_background": "light"
     },
     "output_type": "display_data"
    }
   ],
   "source": [
    "sns.scatterplot(x=\"KM\", y=\"Price\",data=df2)\n",
    "plt.show()"
   ]
  },
  {
   "cell_type": "code",
   "execution_count": 273,
   "id": "49c6a583",
   "metadata": {},
   "outputs": [],
   "source": [
    "df2['Owner']=df2['Owner'].replace('NAN', '3rd Owner')"
   ]
  },
  {
   "cell_type": "code",
   "execution_count": 274,
   "id": "9b931282",
   "metadata": {},
   "outputs": [
    {
     "data": {
      "image/png": "[encoded data removed]",
      "text/plain": [
       "<Figure size 432x288 with 1 Axes>"
      ]
     },
     "metadata": {
      "needs_background": "light"
     },
     "output_type": "display_data"
    }
   ],
   "source": [
    "sns.lineplot(x=\"Owner\", y=\"Price\",data=df2)\n",
    "plt.show()"
   ]
  },
  {
   "cell_type": "code",
   "execution_count": 275,
   "id": "f559c009",
   "metadata": {},
   "outputs": [],
   "source": [
    "df2['Transmission']=df2['Transmission'].replace('NAN', 'AUTOMATIC')"
   ]
  },
  {
   "cell_type": "code",
   "execution_count": 276,
   "id": "32faea3c",
   "metadata": {},
   "outputs": [
    {
     "data": {
      "image/png": "[encoded data removed]",
      "text/plain": [
       "<Figure size 432x288 with 1 Axes>"
      ]
     },
     "metadata": {
      "needs_background": "light"
     },
     "output_type": "display_data"
    }
   ],
   "source": [
    "sns.lineplot(x=\"Transmission\", y=\"Price\",data=df2)\n",
    "plt.show()"
   ]
  },
  {
   "cell_type": "code",
   "execution_count": 277,
   "id": "64a90036",
   "metadata": {},
   "outputs": [
    {
     "data": {
      "image/png": "[encoded data removed]",
      "text/plain": [
       "<Figure size 432x288 with 1 Axes>"
      ]
     },
     "metadata": {
      "needs_background": "light"
     },
     "output_type": "display_data"
    }
   ],
   "source": [
    "sns.lineplot(x=\"Year_purchase\", y=\"Price\",data=df2)\n",
    "plt.show()"
   ]
  },
  {
   "cell_type": "code",
   "execution_count": 278,
   "id": "367cf391",
   "metadata": {},
   "outputs": [
    {
     "data": {
      "image/png": "[encoded data removed]",
      "text/plain": [
       "<Figure size 432x288 with 1 Axes>"
      ]
     },
     "metadata": {
      "needs_background": "light"
     },
     "output_type": "display_data"
    }
   ],
   "source": [
    "sns.scatterplot(x=\"Car\", y=\"Price\",data=df2)\n",
    "plt.show()"
   ]
  },
  {
   "cell_type": "code",
   "execution_count": 279,
   "id": "2e3de849",
   "metadata": {},
   "outputs": [
    {
     "data": {
      "text/plain": [
       "Car              0\n",
       "KM               0\n",
       "Year_purchase    0\n",
       "Owner            0\n",
       "fuel             0\n",
       "Transmission     0\n",
       "Price            0\n",
       "Location         0\n",
       "dtype: int64"
      ]
     },
     "execution_count": 279,
     "metadata": {},
     "output_type": "execute_result"
    }
   ],
   "source": [
    "df2.isnull().sum()"
   ]
  },
  {
   "cell_type": "code",
   "execution_count": 280,
   "id": "84ddf531",
   "metadata": {},
   "outputs": [
    {
     "name": "stdout",
     "output_type": "stream",
     "text": [
      "0    118\n",
      "2    114\n",
      "1     19\n",
      "Name: Location, dtype: int64\n"
     ]
    }
   ],
   "source": [
    "from sklearn.preprocessing import LabelEncoder\n",
    "df_encoded=df2\n",
    "le=LabelEncoder()\n",
    "df_encoded['Location']=le.fit_transform(df_encoded['Location'])\n",
    "print(df_encoded['Location'].value_counts())"
   ]
  },
  {
   "cell_type": "code",
   "execution_count": 281,
   "id": "39d0b51f",
   "metadata": {},
   "outputs": [
    {
     "name": "stdout",
     "output_type": "stream",
     "text": [
      "73     5\n",
      "45     5\n",
      "96     4\n",
      "159    4\n",
      "88     3\n",
      "      ..\n",
      "83     1\n",
      "82     1\n",
      "81     1\n",
      "80     1\n",
      "0      1\n",
      "Name: Car, Length: 177, dtype: int64\n"
     ]
    }
   ],
   "source": [
    "df_encoded['Car']=le.fit_transform(df_encoded['Car'])\n",
    "print(df_encoded['Car'].value_counts())"
   ]
  },
  {
   "cell_type": "code",
   "execution_count": 282,
   "id": "3523c184",
   "metadata": {},
   "outputs": [
    {
     "name": "stdout",
     "output_type": "stream",
     "text": [
      "0    195\n",
      "1     50\n",
      "2      6\n",
      "Name: Owner, dtype: int64\n"
     ]
    }
   ],
   "source": [
    "df_encoded['Owner']=le.fit_transform(df_encoded['Owner'])\n",
    "print(df_encoded['Owner'].value_counts())"
   ]
  },
  {
   "cell_type": "code",
   "execution_count": 283,
   "id": "4b0ee8ff",
   "metadata": {},
   "outputs": [
    {
     "name": "stdout",
     "output_type": "stream",
     "text": [
      "1    136\n",
      "0    115\n",
      "Name: fuel, dtype: int64\n"
     ]
    }
   ],
   "source": [
    "df_encoded['fuel']=le.fit_transform(df_encoded['fuel'])\n",
    "print(df_encoded['fuel'].value_counts())"
   ]
  },
  {
   "cell_type": "code",
   "execution_count": 284,
   "id": "4f129caf",
   "metadata": {},
   "outputs": [
    {
     "name": "stdout",
     "output_type": "stream",
     "text": [
      "0    118\n",
      "2    114\n",
      "1     19\n",
      "Name: Location, dtype: int64\n"
     ]
    }
   ],
   "source": [
    "df_encoded['Location']=le.fit_transform(df_encoded['Location'])\n",
    "print(df_encoded['Location'].value_counts())"
   ]
  },
  {
   "cell_type": "code",
   "execution_count": 285,
   "id": "450edc50",
   "metadata": {},
   "outputs": [
    {
     "name": "stdout",
     "output_type": "stream",
     "text": [
      "73     5\n",
      "45     5\n",
      "96     4\n",
      "159    4\n",
      "88     3\n",
      "      ..\n",
      "83     1\n",
      "82     1\n",
      "81     1\n",
      "80     1\n",
      "0      1\n",
      "Name: Car, Length: 177, dtype: int64\n"
     ]
    }
   ],
   "source": [
    "df_encoded['Car']=le.fit_transform(df_encoded['Car'])\n",
    "print(df_encoded['Car'].value_counts())"
   ]
  },
  {
   "cell_type": "code",
   "execution_count": 286,
   "id": "c3a9b6dd",
   "metadata": {},
   "outputs": [
    {
     "name": "stdout",
     "output_type": "stream",
     "text": [
      "1    218\n",
      "0     33\n",
      "Name: Transmission, dtype: int64\n"
     ]
    }
   ],
   "source": [
    "df_encoded['Transmission']=le.fit_transform(df_encoded['Transmission'])\n",
    "print(df_encoded['Transmission'].value_counts())"
   ]
  },
  {
   "cell_type": "code",
   "execution_count": 287,
   "id": "b460a898",
   "metadata": {},
   "outputs": [
    {
     "data": {
      "text/html": [
       "<div>\n",
       "<style scoped>\n",
       "    .dataframe tbody tr th:only-of-type {\n",
       "        vertical-align: middle;\n",
       "    }\n",
       "\n",
       "    .dataframe tbody tr th {\n",
       "        vertical-align: top;\n",
       "    }\n",
       "\n",
       "    .dataframe thead th {\n",
       "        text-align: right;\n",
       "    }\n",
       "</style>\n",
       "<table border=\"1\" class=\"dataframe\">\n",
       "  <thead>\n",
       "    <tr style=\"text-align: right;\">\n",
       "      <th></th>\n",
       "      <th>Car</th>\n",
       "      <th>KM</th>\n",
       "      <th>Year_purchase</th>\n",
       "      <th>Owner</th>\n",
       "      <th>fuel</th>\n",
       "      <th>Transmission</th>\n",
       "      <th>Price</th>\n",
       "      <th>Location</th>\n",
       "    </tr>\n",
       "  </thead>\n",
       "  <tbody>\n",
       "    <tr>\n",
       "      <th>1</th>\n",
       "      <td>152</td>\n",
       "      <td>65235</td>\n",
       "      <td>3</td>\n",
       "      <td>0</td>\n",
       "      <td>1</td>\n",
       "      <td>1</td>\n",
       "      <td>3.34</td>\n",
       "      <td>2</td>\n",
       "    </tr>\n",
       "    <tr>\n",
       "      <th>2</th>\n",
       "      <td>130</td>\n",
       "      <td>47264</td>\n",
       "      <td>4</td>\n",
       "      <td>0</td>\n",
       "      <td>1</td>\n",
       "      <td>1</td>\n",
       "      <td>6.22</td>\n",
       "      <td>2</td>\n",
       "    </tr>\n",
       "    <tr>\n",
       "      <th>3</th>\n",
       "      <td>88</td>\n",
       "      <td>103354</td>\n",
       "      <td>5</td>\n",
       "      <td>0</td>\n",
       "      <td>1</td>\n",
       "      <td>1</td>\n",
       "      <td>13.05</td>\n",
       "      <td>2</td>\n",
       "    </tr>\n",
       "    <tr>\n",
       "      <th>4</th>\n",
       "      <td>54</td>\n",
       "      <td>65571</td>\n",
       "      <td>6</td>\n",
       "      <td>1</td>\n",
       "      <td>1</td>\n",
       "      <td>0</td>\n",
       "      <td>6.22</td>\n",
       "      <td>2</td>\n",
       "    </tr>\n",
       "    <tr>\n",
       "      <th>5</th>\n",
       "      <td>118</td>\n",
       "      <td>22876</td>\n",
       "      <td>4</td>\n",
       "      <td>0</td>\n",
       "      <td>1</td>\n",
       "      <td>1</td>\n",
       "      <td>5.24</td>\n",
       "      <td>2</td>\n",
       "    </tr>\n",
       "  </tbody>\n",
       "</table>\n",
       "</div>"
      ],
      "text/plain": [
       "   Car      KM  Year_purchase  Owner  fuel  Transmission  Price  Location\n",
       "1  152   65235              3      0     1             1   3.34         2\n",
       "2  130   47264              4      0     1             1   6.22         2\n",
       "3   88  103354              5      0     1             1  13.05         2\n",
       "4   54   65571              6      1     1             0   6.22         2\n",
       "5  118   22876              4      0     1             1   5.24         2"
      ]
     },
     "execution_count": 287,
     "metadata": {},
     "output_type": "execute_result"
    }
   ],
   "source": [
    "df_encoded.head()"
   ]
  },
  {
   "cell_type": "code",
   "execution_count": 288,
   "id": "b81aa1df",
   "metadata": {},
   "outputs": [
    {
     "data": {
      "text/html": [
       "<div>\n",
       "<style scoped>\n",
       "    .dataframe tbody tr th:only-of-type {\n",
       "        vertical-align: middle;\n",
       "    }\n",
       "\n",
       "    .dataframe tbody tr th {\n",
       "        vertical-align: top;\n",
       "    }\n",
       "\n",
       "    .dataframe thead th {\n",
       "        text-align: right;\n",
       "    }\n",
       "</style>\n",
       "<table border=\"1\" class=\"dataframe\">\n",
       "  <thead>\n",
       "    <tr style=\"text-align: right;\">\n",
       "      <th></th>\n",
       "      <th>Car</th>\n",
       "      <th>Year_purchase</th>\n",
       "      <th>Owner</th>\n",
       "      <th>fuel</th>\n",
       "      <th>Transmission</th>\n",
       "      <th>Price</th>\n",
       "      <th>Location</th>\n",
       "    </tr>\n",
       "  </thead>\n",
       "  <tbody>\n",
       "    <tr>\n",
       "      <th>count</th>\n",
       "      <td>251.000000</td>\n",
       "      <td>251.000000</td>\n",
       "      <td>251.000000</td>\n",
       "      <td>251.000000</td>\n",
       "      <td>251.000000</td>\n",
       "      <td>251.000000</td>\n",
       "      <td>251.000000</td>\n",
       "    </tr>\n",
       "    <tr>\n",
       "      <th>mean</th>\n",
       "      <td>87.856574</td>\n",
       "      <td>5.139442</td>\n",
       "      <td>0.247012</td>\n",
       "      <td>0.541833</td>\n",
       "      <td>0.868526</td>\n",
       "      <td>6.182510</td>\n",
       "      <td>0.984064</td>\n",
       "    </tr>\n",
       "    <tr>\n",
       "      <th>std</th>\n",
       "      <td>51.584526</td>\n",
       "      <td>2.361457</td>\n",
       "      <td>0.484501</td>\n",
       "      <td>0.499242</td>\n",
       "      <td>0.338593</td>\n",
       "      <td>3.062169</td>\n",
       "      <td>0.963195</td>\n",
       "    </tr>\n",
       "    <tr>\n",
       "      <th>min</th>\n",
       "      <td>0.000000</td>\n",
       "      <td>0.000000</td>\n",
       "      <td>0.000000</td>\n",
       "      <td>0.000000</td>\n",
       "      <td>0.000000</td>\n",
       "      <td>2.370000</td>\n",
       "      <td>0.000000</td>\n",
       "    </tr>\n",
       "    <tr>\n",
       "      <th>25%</th>\n",
       "      <td>45.000000</td>\n",
       "      <td>3.000000</td>\n",
       "      <td>0.000000</td>\n",
       "      <td>0.000000</td>\n",
       "      <td>1.000000</td>\n",
       "      <td>4.110000</td>\n",
       "      <td>0.000000</td>\n",
       "    </tr>\n",
       "    <tr>\n",
       "      <th>50%</th>\n",
       "      <td>88.000000</td>\n",
       "      <td>5.000000</td>\n",
       "      <td>0.000000</td>\n",
       "      <td>1.000000</td>\n",
       "      <td>1.000000</td>\n",
       "      <td>5.270000</td>\n",
       "      <td>1.000000</td>\n",
       "    </tr>\n",
       "    <tr>\n",
       "      <th>75%</th>\n",
       "      <td>133.500000</td>\n",
       "      <td>7.000000</td>\n",
       "      <td>0.000000</td>\n",
       "      <td>1.000000</td>\n",
       "      <td>1.000000</td>\n",
       "      <td>7.450000</td>\n",
       "      <td>2.000000</td>\n",
       "    </tr>\n",
       "    <tr>\n",
       "      <th>max</th>\n",
       "      <td>176.000000</td>\n",
       "      <td>11.000000</td>\n",
       "      <td>2.000000</td>\n",
       "      <td>1.000000</td>\n",
       "      <td>1.000000</td>\n",
       "      <td>19.260000</td>\n",
       "      <td>2.000000</td>\n",
       "    </tr>\n",
       "  </tbody>\n",
       "</table>\n",
       "</div>"
      ],
      "text/plain": [
       "              Car  Year_purchase       Owner        fuel  Transmission  \\\n",
       "count  251.000000     251.000000  251.000000  251.000000    251.000000   \n",
       "mean    87.856574       5.139442    0.247012    0.541833      0.868526   \n",
       "std     51.584526       2.361457    0.484501    0.499242      0.338593   \n",
       "min      0.000000       0.000000    0.000000    0.000000      0.000000   \n",
       "25%     45.000000       3.000000    0.000000    0.000000      1.000000   \n",
       "50%     88.000000       5.000000    0.000000    1.000000      1.000000   \n",
       "75%    133.500000       7.000000    0.000000    1.000000      1.000000   \n",
       "max    176.000000      11.000000    2.000000    1.000000      1.000000   \n",
       "\n",
       "            Price    Location  \n",
       "count  251.000000  251.000000  \n",
       "mean     6.182510    0.984064  \n",
       "std      3.062169    0.963195  \n",
       "min      2.370000    0.000000  \n",
       "25%      4.110000    0.000000  \n",
       "50%      5.270000    1.000000  \n",
       "75%      7.450000    2.000000  \n",
       "max     19.260000    2.000000  "
      ]
     },
     "execution_count": 288,
     "metadata": {},
     "output_type": "execute_result"
    }
   ],
   "source": [
    "df_encoded.describe()"
   ]
  },
  {
   "cell_type": "code",
   "execution_count": 289,
   "id": "cdedd33e",
   "metadata": {},
   "outputs": [
    {
     "data": {
      "text/plain": [
       "<AxesSubplot:>"
      ]
     },
     "execution_count": 289,
     "metadata": {},
     "output_type": "execute_result"
    },
    {
     "data": {
      "image/png": "[encoded data removed]",
      "text/plain": [
       "<Figure size 432x288 with 1 Axes>"
      ]
     },
     "metadata": {
      "needs_background": "light"
     },
     "output_type": "display_data"
    }
   ],
   "source": [
    "df_encoded['Car'].plot(kind='box',color='r')"
   ]
  },
  {
   "cell_type": "code",
   "execution_count": 290,
   "id": "1ff9d612",
   "metadata": {},
   "outputs": [],
   "source": [
    "df_encoded['KM']=pd.to_numeric(df_encoded['KM'])"
   ]
  },
  {
   "cell_type": "code",
   "execution_count": 291,
   "id": "14b774d0",
   "metadata": {},
   "outputs": [
    {
     "data": {
      "text/plain": [
       "<AxesSubplot:>"
      ]
     },
     "execution_count": 291,
     "metadata": {},
     "output_type": "execute_result"
    },
    {
     "data": {
      "image/png": "[encoded data removed]",
      "text/plain": [
       "<Figure size 432x288 with 1 Axes>"
      ]
     },
     "metadata": {
      "needs_background": "light"
     },
     "output_type": "display_data"
    }
   ],
   "source": [
    "df_encoded['KM'].plot(kind='box',color='r')"
   ]
  },
  {
   "cell_type": "markdown",
   "id": "0cfce354",
   "metadata": {},
   "source": [
    "KM can ave outliers, if the car is old so km driven would be more"
   ]
  },
  {
   "cell_type": "code",
   "execution_count": 292,
   "id": "83bc9121",
   "metadata": {},
   "outputs": [
    {
     "data": {
      "text/html": [
       "<div>\n",
       "<style scoped>\n",
       "    .dataframe tbody tr th:only-of-type {\n",
       "        vertical-align: middle;\n",
       "    }\n",
       "\n",
       "    .dataframe tbody tr th {\n",
       "        vertical-align: top;\n",
       "    }\n",
       "\n",
       "    .dataframe thead th {\n",
       "        text-align: right;\n",
       "    }\n",
       "</style>\n",
       "<table border=\"1\" class=\"dataframe\">\n",
       "  <thead>\n",
       "    <tr style=\"text-align: right;\">\n",
       "      <th></th>\n",
       "      <th>Car</th>\n",
       "      <th>KM</th>\n",
       "      <th>Year_purchase</th>\n",
       "      <th>Owner</th>\n",
       "      <th>fuel</th>\n",
       "      <th>Transmission</th>\n",
       "      <th>Price</th>\n",
       "      <th>Location</th>\n",
       "    </tr>\n",
       "  </thead>\n",
       "  <tbody>\n",
       "    <tr>\n",
       "      <th>Car</th>\n",
       "      <td>1.000000</td>\n",
       "      <td>-0.306874</td>\n",
       "      <td>-0.619531</td>\n",
       "      <td>-0.110929</td>\n",
       "      <td>0.158506</td>\n",
       "      <td>-0.157272</td>\n",
       "      <td>0.131026</td>\n",
       "      <td>0.274961</td>\n",
       "    </tr>\n",
       "    <tr>\n",
       "      <th>KM</th>\n",
       "      <td>-0.306874</td>\n",
       "      <td>1.000000</td>\n",
       "      <td>0.359168</td>\n",
       "      <td>0.074407</td>\n",
       "      <td>-0.396840</td>\n",
       "      <td>0.038337</td>\n",
       "      <td>-0.011520</td>\n",
       "      <td>-0.137710</td>\n",
       "    </tr>\n",
       "    <tr>\n",
       "      <th>Year_purchase</th>\n",
       "      <td>-0.619531</td>\n",
       "      <td>0.359168</td>\n",
       "      <td>1.000000</td>\n",
       "      <td>0.176045</td>\n",
       "      <td>-0.162737</td>\n",
       "      <td>0.088055</td>\n",
       "      <td>-0.215383</td>\n",
       "      <td>-0.227636</td>\n",
       "    </tr>\n",
       "    <tr>\n",
       "      <th>Owner</th>\n",
       "      <td>-0.110929</td>\n",
       "      <td>0.074407</td>\n",
       "      <td>0.176045</td>\n",
       "      <td>1.000000</td>\n",
       "      <td>-0.042891</td>\n",
       "      <td>-0.240139</td>\n",
       "      <td>-0.002172</td>\n",
       "      <td>0.085611</td>\n",
       "    </tr>\n",
       "    <tr>\n",
       "      <th>fuel</th>\n",
       "      <td>0.158506</td>\n",
       "      <td>-0.396840</td>\n",
       "      <td>-0.162737</td>\n",
       "      <td>-0.042891</td>\n",
       "      <td>1.000000</td>\n",
       "      <td>-0.026491</td>\n",
       "      <td>-0.081298</td>\n",
       "      <td>0.442261</td>\n",
       "    </tr>\n",
       "    <tr>\n",
       "      <th>Transmission</th>\n",
       "      <td>-0.157272</td>\n",
       "      <td>0.038337</td>\n",
       "      <td>0.088055</td>\n",
       "      <td>-0.240139</td>\n",
       "      <td>-0.026491</td>\n",
       "      <td>1.000000</td>\n",
       "      <td>-0.113450</td>\n",
       "      <td>-0.227220</td>\n",
       "    </tr>\n",
       "    <tr>\n",
       "      <th>Price</th>\n",
       "      <td>0.131026</td>\n",
       "      <td>-0.011520</td>\n",
       "      <td>-0.215383</td>\n",
       "      <td>-0.002172</td>\n",
       "      <td>-0.081298</td>\n",
       "      <td>-0.113450</td>\n",
       "      <td>1.000000</td>\n",
       "      <td>-0.021943</td>\n",
       "    </tr>\n",
       "    <tr>\n",
       "      <th>Location</th>\n",
       "      <td>0.274961</td>\n",
       "      <td>-0.137710</td>\n",
       "      <td>-0.227636</td>\n",
       "      <td>0.085611</td>\n",
       "      <td>0.442261</td>\n",
       "      <td>-0.227220</td>\n",
       "      <td>-0.021943</td>\n",
       "      <td>1.000000</td>\n",
       "    </tr>\n",
       "  </tbody>\n",
       "</table>\n",
       "</div>"
      ],
      "text/plain": [
       "                    Car        KM  Year_purchase     Owner      fuel  \\\n",
       "Car            1.000000 -0.306874      -0.619531 -0.110929  0.158506   \n",
       "KM            -0.306874  1.000000       0.359168  0.074407 -0.396840   \n",
       "Year_purchase -0.619531  0.359168       1.000000  0.176045 -0.162737   \n",
       "Owner         -0.110929  0.074407       0.176045  1.000000 -0.042891   \n",
       "fuel           0.158506 -0.396840      -0.162737 -0.042891  1.000000   \n",
       "Transmission  -0.157272  0.038337       0.088055 -0.240139 -0.026491   \n",
       "Price          0.131026 -0.011520      -0.215383 -0.002172 -0.081298   \n",
       "Location       0.274961 -0.137710      -0.227636  0.085611  0.442261   \n",
       "\n",
       "               Transmission     Price  Location  \n",
       "Car               -0.157272  0.131026  0.274961  \n",
       "KM                 0.038337 -0.011520 -0.137710  \n",
       "Year_purchase      0.088055 -0.215383 -0.227636  \n",
       "Owner             -0.240139 -0.002172  0.085611  \n",
       "fuel              -0.026491 -0.081298  0.442261  \n",
       "Transmission       1.000000 -0.113450 -0.227220  \n",
       "Price             -0.113450  1.000000 -0.021943  \n",
       "Location          -0.227220 -0.021943  1.000000  "
      ]
     },
     "execution_count": 292,
     "metadata": {},
     "output_type": "execute_result"
    }
   ],
   "source": [
    "df_encoded.corr()"
   ]
  },
  {
   "cell_type": "code",
   "execution_count": 307,
   "id": "b7d5a445",
   "metadata": {},
   "outputs": [
    {
     "data": {
      "text/plain": [
       "<AxesSubplot:>"
      ]
     },
     "execution_count": 307,
     "metadata": {},
     "output_type": "execute_result"
    },
    {
     "data": {
      "image/png": "[encoded data removed]",
      "text/plain": [
       "<Figure size 432x432 with 2 Axes>"
      ]
     },
     "metadata": {
      "needs_background": "light"
     },
     "output_type": "display_data"
    }
   ],
   "source": [
    "fig, ax = plt.subplots(figsize=(6,6)) \n",
    "sns.heatmap(df_encoded.corr(),annot=True, linewidth=0.5,)"
   ]
  },
  {
   "cell_type": "markdown",
   "id": "3830377e",
   "metadata": {},
   "source": [
    "no major corelation observed."
   ]
  },
  {
   "cell_type": "code",
   "execution_count": 294,
   "id": "b58b4c8a",
   "metadata": {},
   "outputs": [],
   "source": [
    "x=df_encoded.drop(columns='Price')\n",
    "y=df_encoded['Price']"
   ]
  },
  {
   "cell_type": "code",
   "execution_count": 295,
   "id": "a8ea65e9",
   "metadata": {},
   "outputs": [
    {
     "name": "stdout",
     "output_type": "stream",
     "text": [
      "x: (251, 7)\n",
      "y: (251,)\n"
     ]
    }
   ],
   "source": [
    "print('x:',x.shape)\n",
    "print('y:',y.shape)"
   ]
  },
  {
   "cell_type": "code",
   "execution_count": 296,
   "id": "876e425c",
   "metadata": {},
   "outputs": [
    {
     "data": {
      "text/plain": [
       "array([[ 1.24594699,  0.1063909 , -0.90779424, ...,  0.91955872,\n",
       "         0.38907088,  1.05686374],\n",
       "       [ 0.81861039, -0.36083433, -0.48348073, ...,  0.91955872,\n",
       "         0.38907088,  1.05686374],\n",
       "       [ 0.00278597,  1.09744084, -0.05916722, ...,  0.91955872,\n",
       "         0.38907088,  1.05686374],\n",
       "       ...,\n",
       "       [ 0.74091282, -0.38579322, -0.48348073, ..., -1.08747814,\n",
       "         0.38907088,  0.01657825],\n",
       "       [-0.40512624, -0.98173873,  0.36514628, ...,  0.91955872,\n",
       "         0.38907088,  0.01657825],\n",
       "       [ 0.50782013,  0.04035383, -0.48348073, ..., -1.08747814,\n",
       "         0.38907088,  0.01657825]])"
      ]
     },
     "execution_count": 296,
     "metadata": {},
     "output_type": "execute_result"
    }
   ],
   "source": [
    "from sklearn.preprocessing import StandardScaler\n",
    "scaler=StandardScaler()\n",
    "x_scaled=scaler.fit_transform(x)\n",
    "x_scaled"
   ]
  },
  {
   "cell_type": "code",
   "execution_count": 297,
   "id": "e51d81c5",
   "metadata": {},
   "outputs": [],
   "source": [
    "from sklearn.model_selection import train_test_split \n",
    "from sklearn.metrics import r2_score,mean_squared_error, mean_absolute_error\n",
    "from sklearn.linear_model import LinearRegression\n",
    "from sklearn.svm import SVR\n",
    "from sklearn.ensemble import RandomForestRegressor,GradientBoostingRegressor"
   ]
  },
  {
   "cell_type": "code",
   "execution_count": 298,
   "id": "36746e7b",
   "metadata": {},
   "outputs": [],
   "source": [
    "#Splitting into train and test\n",
    "x_train,x_test,y_train,y_test=train_test_split(x_scaled,y,test_size=0.25,random_state=45)"
   ]
  },
  {
   "cell_type": "code",
   "execution_count": 299,
   "id": "72eb510a",
   "metadata": {},
   "outputs": [
    {
     "name": "stdout",
     "output_type": "stream",
     "text": [
      "metrics of LinearRegression():\n",
      " mean_absolute_error: 2.6119050862281252\n",
      " mean_squared_error: 14.394900456087134\n",
      " r2_score: -0.03032565299391332 \n",
      " mean cv score: -0.3301251089962346\n",
      "\n",
      "\n",
      "\n",
      "metrics of SVR():\n",
      " mean_absolute_error: 2.3539192326042593\n",
      " mean_squared_error: 15.204625144065323\n",
      " r2_score: -0.08828229676727362 \n",
      " mean cv score: -0.3415959586445788\n",
      "\n",
      "\n",
      "\n",
      "metrics of RandomForestRegressor():\n",
      " mean_absolute_error: 2.62045873015873\n",
      " mean_squared_error: 15.230039962380957\n",
      " r2_score: -0.09010138119628075 \n",
      " mean cv score: -0.4258930446906346\n",
      "\n",
      "\n",
      "\n",
      "metrics of GradientBoostingRegressor():\n",
      " mean_absolute_error: 2.727925781237661\n",
      " mean_squared_error: 15.050840824534141\n",
      " r2_score: -0.07727507028977554 \n",
      " mean cv score: -0.45991147420623346\n",
      "\n",
      "\n",
      "\n"
     ]
    }
   ],
   "source": [
    "from sklearn.model_selection import cross_val_score\n",
    "ml_models=[LinearRegression(),SVR(),RandomForestRegressor(),GradientBoostingRegressor()]\n",
    "for m in ml_models:\n",
    "    m.fit(x_train,y_train)\n",
    "    predm=m.predict(x_test)\n",
    "    mse=mean_squared_error(y_test,predm)\n",
    "    mae=mean_absolute_error(y_test,predm)\n",
    "    r2=r2_score(y_test,predm)\n",
    "    print(f'metrics of {m}:')\n",
    "    print(f' mean_absolute_error: {mae}\\n mean_squared_error: {mse}\\n r2_score: {r2} ')\n",
    "    score=cross_val_score(m,x_scaled,y, cv=5)\n",
    "    print(' mean cv score:',score.mean())\n",
    "    print('\\n\\n')"
   ]
  },
  {
   "cell_type": "code",
   "execution_count": 300,
   "id": "f4f4de70",
   "metadata": {},
   "outputs": [
    {
     "name": "stdout",
     "output_type": "stream",
     "text": [
      " mean_absolute_error: 2.6119050862281252\n",
      " mean_squared_error: 14.394900456087134\n",
      " r2_score: -0.03032565299391332 \n"
     ]
    }
   ],
   "source": [
    "lr=LinearRegression()\n",
    "lr.fit(x_train,y_train)\n",
    "pred=lr.predict(x_test)\n",
    "mse=mean_squared_error(y_test,pred)\n",
    "mae=mean_absolute_error(y_test,pred)\n",
    "r2=r2_score(y_test,pred)\n",
    "print(f' mean_absolute_error: {mae}\\n mean_squared_error: {mse}\\n r2_score: {r2} ')"
   ]
  },
  {
   "cell_type": "code",
   "execution_count": 301,
   "id": "baf8c492",
   "metadata": {},
   "outputs": [
    {
     "name": "stdout",
     "output_type": "stream",
     "text": [
      "Train score: 0.09906371640203138\n",
      "Test score: -0.03032565299391332\n"
     ]
    }
   ],
   "source": [
    "print('Train score:',lr.score(x_train,y_train))\n",
    "print('Test score:',lr.score(x_test,y_test))"
   ]
  },
  {
   "cell_type": "code",
   "execution_count": 302,
   "id": "97a7e4d5",
   "metadata": {},
   "outputs": [
    {
     "name": "stderr",
     "output_type": "stream",
     "text": [
      "C:\\Users\\admin\\anaconda3\\lib\\site-packages\\seaborn\\distributions.py:2557: FutureWarning: `distplot` is a deprecated function and will be removed in a future version. Please adapt your code to use either `displot` (a figure-level function with similar flexibility) or `histplot` (an axes-level function for histograms).\n",
      "  warnings.warn(msg, FutureWarning)\n"
     ]
    },
    {
     "data": {
      "text/plain": [
       "<AxesSubplot:xlabel='Price', ylabel='Density'>"
      ]
     },
     "execution_count": 302,
     "metadata": {},
     "output_type": "execute_result"
    },
    {
     "data": {
      "image/png": "[encoded data removed]",
      "text/plain": [
       "<Figure size 432x288 with 1 Axes>"
      ]
     },
     "metadata": {
      "needs_background": "light"
     },
     "output_type": "display_data"
    }
   ],
   "source": [
    "sns.distplot(y_test-pred)"
   ]
  },
  {
   "cell_type": "code",
   "execution_count": 303,
   "id": "cb59d2db",
   "metadata": {},
   "outputs": [
    {
     "data": {
      "text/plain": [
       "<AxesSubplot:xlabel='Actual', ylabel='Predicted'>"
      ]
     },
     "execution_count": 303,
     "metadata": {},
     "output_type": "execute_result"
    },
    {
     "data": {
      "image/png": "[encoded data removed]",
      "text/plain": [
       "<Figure size 432x288 with 1 Axes>"
      ]
     },
     "metadata": {
      "needs_background": "light"
     },
     "output_type": "display_data"
    }
   ],
   "source": [
    "results=pd.DataFrame({'Actual':y_test, 'Predicted':pred})\n",
    "sns.regplot(x='Actual',y='Predicted',data=results)"
   ]
  },
  {
   "cell_type": "code",
   "execution_count": 304,
   "id": "f0e07b15",
   "metadata": {},
   "outputs": [
    {
     "data": {
      "text/html": [
       "<div>\n",
       "<style scoped>\n",
       "    .dataframe tbody tr th:only-of-type {\n",
       "        vertical-align: middle;\n",
       "    }\n",
       "\n",
       "    .dataframe tbody tr th {\n",
       "        vertical-align: top;\n",
       "    }\n",
       "\n",
       "    .dataframe thead th {\n",
       "        text-align: right;\n",
       "    }\n",
       "</style>\n",
       "<table border=\"1\" class=\"dataframe\">\n",
       "  <thead>\n",
       "    <tr style=\"text-align: right;\">\n",
       "      <th></th>\n",
       "      <th>Actual</th>\n",
       "      <th>Predicted</th>\n",
       "    </tr>\n",
       "  </thead>\n",
       "  <tbody>\n",
       "    <tr>\n",
       "      <th>201</th>\n",
       "      <td>5.47</td>\n",
       "      <td>6.678572</td>\n",
       "    </tr>\n",
       "    <tr>\n",
       "      <th>4</th>\n",
       "      <td>6.22</td>\n",
       "      <td>6.663167</td>\n",
       "    </tr>\n",
       "    <tr>\n",
       "      <th>123</th>\n",
       "      <td>2.74</td>\n",
       "      <td>5.699527</td>\n",
       "    </tr>\n",
       "    <tr>\n",
       "      <th>203</th>\n",
       "      <td>4.22</td>\n",
       "      <td>6.693762</td>\n",
       "    </tr>\n",
       "    <tr>\n",
       "      <th>162</th>\n",
       "      <td>4.68</td>\n",
       "      <td>5.492625</td>\n",
       "    </tr>\n",
       "    <tr>\n",
       "      <th>87</th>\n",
       "      <td>19.26</td>\n",
       "      <td>6.358141</td>\n",
       "    </tr>\n",
       "    <tr>\n",
       "      <th>175</th>\n",
       "      <td>4.76</td>\n",
       "      <td>5.261933</td>\n",
       "    </tr>\n",
       "    <tr>\n",
       "      <th>177</th>\n",
       "      <td>8.09</td>\n",
       "      <td>6.177097</td>\n",
       "    </tr>\n",
       "    <tr>\n",
       "      <th>169</th>\n",
       "      <td>2.87</td>\n",
       "      <td>5.601964</td>\n",
       "    </tr>\n",
       "    <tr>\n",
       "      <th>38</th>\n",
       "      <td>3.24</td>\n",
       "      <td>5.121539</td>\n",
       "    </tr>\n",
       "  </tbody>\n",
       "</table>\n",
       "</div>"
      ],
      "text/plain": [
       "     Actual  Predicted\n",
       "201    5.47   6.678572\n",
       "4      6.22   6.663167\n",
       "123    2.74   5.699527\n",
       "203    4.22   6.693762\n",
       "162    4.68   5.492625\n",
       "87    19.26   6.358141\n",
       "175    4.76   5.261933\n",
       "177    8.09   6.177097\n",
       "169    2.87   5.601964\n",
       "38     3.24   5.121539"
      ]
     },
     "execution_count": 304,
     "metadata": {},
     "output_type": "execute_result"
    }
   ],
   "source": [
    "results.sample(10)"
   ]
  },
  {
   "cell_type": "code",
   "execution_count": 309,
   "id": "4edde326",
   "metadata": {},
   "outputs": [],
   "source": [
    "#Saving the model as obj file\n",
    "import pickle\n",
    "file=open('Car price_prediction.pkl','wb')\n",
    "pickle.dump(lr,file)"
   ]
  },
  {
   "cell_type": "code",
   "execution_count": null,
   "id": "136b9fed",
   "metadata": {},
   "outputs": [],
   "source": []
  }
 ],
 "metadata": {
  "kernelspec": {
   "display_name": "Python 3",
   "language": "python",
   "name": "python3"
  },
  "language_info": {
   "codemirror_mode": {
    "name": "ipython",
    "version": 3
   },
   "file_extension": ".py",
   "mimetype": "text/x-python",
   "name": "python",
   "nbconvert_exporter": "python",
   "pygments_lexer": "ipython3",
   "version": "3.8.8"
  }
 },
 "nbformat": 4,
 "nbformat_minor": 5
}
